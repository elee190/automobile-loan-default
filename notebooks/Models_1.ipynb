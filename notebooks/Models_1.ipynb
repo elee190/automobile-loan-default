{
 "cells": [
  {
   "cell_type": "code",
   "execution_count": 1,
   "id": "dd492f52-c323-49d0-8844-3aafa3e3c7ae",
   "metadata": {},
   "outputs": [],
   "source": [
    "import pandas as pd\n",
    "import numpy as np\n",
    "import matplotlib.pyplot as plt\n",
    "import seaborn as sns\n",
    "\n",
    "from sklearn.linear_model import LogisticRegression\n",
    "from sklearn.tree import DecisionTreeClassifier\n",
    "from sklearn.naive_bayes import MultinomialNB\n",
    "from sklearn.ensemble import BaggingClassifier, StackingClassifier, AdaBoostClassifier\n",
    "from sklearn.ensemble import RandomForestClassifier\n",
    "from sklearn.preprocessing import StandardScaler\n",
    "\n",
    "from sklearn.model_selection import train_test_split, GridSearchCV, cross_val_predict, cross_val_score\n",
    "from sklearn.pipeline import Pipeline\n",
    "\n",
    "from sklearn.metrics import (confusion_matrix, ConfusionMatrixDisplay,\n",
    "    accuracy_score, roc_auc_score, recall_score,\n",
    "    precision_score, f1_score, RocCurveDisplay)\n",
    "\n",
    "from sklearn.model_selection import RandomizedSearchCV"
   ]
  },
  {
   "cell_type": "code",
   "execution_count": 2,
   "id": "e36c3761-a759-411f-9022-f9feeb8bb8af",
   "metadata": {},
   "outputs": [
    {
     "data": {
      "text/html": [
       "<div>\n",
       "<style scoped>\n",
       "    .dataframe tbody tr th:only-of-type {\n",
       "        vertical-align: middle;\n",
       "    }\n",
       "\n",
       "    .dataframe tbody tr th {\n",
       "        vertical-align: top;\n",
       "    }\n",
       "\n",
       "    .dataframe thead th {\n",
       "        text-align: right;\n",
       "    }\n",
       "</style>\n",
       "<table border=\"1\" class=\"dataframe\">\n",
       "  <thead>\n",
       "    <tr style=\"text-align: right;\">\n",
       "      <th></th>\n",
       "      <th>disbursed_amount</th>\n",
       "      <th>asset_cost</th>\n",
       "      <th>ltv</th>\n",
       "      <th>branch_id</th>\n",
       "      <th>supplier_id</th>\n",
       "      <th>manufacturer_id</th>\n",
       "      <th>current_pincode_id</th>\n",
       "      <th>state_id</th>\n",
       "      <th>employee_code_id</th>\n",
       "      <th>aadhar_flag</th>\n",
       "      <th>...</th>\n",
       "      <th>no_of_inquiries</th>\n",
       "      <th>employment_self</th>\n",
       "      <th>employment_none</th>\n",
       "      <th>age_at_disbursal</th>\n",
       "      <th>average_acct_age_months</th>\n",
       "      <th>credit_history_length_months</th>\n",
       "      <th>cns_score_category</th>\n",
       "      <th>cns_score_unreliable</th>\n",
       "      <th>loan_default</th>\n",
       "      <th>disbursed_amount_treated</th>\n",
       "    </tr>\n",
       "  </thead>\n",
       "  <tbody>\n",
       "    <tr>\n",
       "      <th>0</th>\n",
       "      <td>50578</td>\n",
       "      <td>58400</td>\n",
       "      <td>89.55</td>\n",
       "      <td>67</td>\n",
       "      <td>22807</td>\n",
       "      <td>45</td>\n",
       "      <td>1441</td>\n",
       "      <td>6</td>\n",
       "      <td>1998</td>\n",
       "      <td>1</td>\n",
       "      <td>...</td>\n",
       "      <td>0</td>\n",
       "      <td>0</td>\n",
       "      <td>0</td>\n",
       "      <td>34</td>\n",
       "      <td>0</td>\n",
       "      <td>0</td>\n",
       "      <td>0</td>\n",
       "      <td>0</td>\n",
       "      <td>0</td>\n",
       "      <td>50578.0</td>\n",
       "    </tr>\n",
       "    <tr>\n",
       "      <th>1</th>\n",
       "      <td>47145</td>\n",
       "      <td>65550</td>\n",
       "      <td>73.23</td>\n",
       "      <td>67</td>\n",
       "      <td>22807</td>\n",
       "      <td>45</td>\n",
       "      <td>1502</td>\n",
       "      <td>6</td>\n",
       "      <td>1998</td>\n",
       "      <td>1</td>\n",
       "      <td>...</td>\n",
       "      <td>0</td>\n",
       "      <td>1</td>\n",
       "      <td>0</td>\n",
       "      <td>33</td>\n",
       "      <td>23</td>\n",
       "      <td>23</td>\n",
       "      <td>9</td>\n",
       "      <td>0</td>\n",
       "      <td>1</td>\n",
       "      <td>47145.0</td>\n",
       "    </tr>\n",
       "    <tr>\n",
       "      <th>2</th>\n",
       "      <td>53278</td>\n",
       "      <td>61360</td>\n",
       "      <td>89.63</td>\n",
       "      <td>67</td>\n",
       "      <td>22807</td>\n",
       "      <td>45</td>\n",
       "      <td>1497</td>\n",
       "      <td>6</td>\n",
       "      <td>1998</td>\n",
       "      <td>1</td>\n",
       "      <td>...</td>\n",
       "      <td>0</td>\n",
       "      <td>1</td>\n",
       "      <td>0</td>\n",
       "      <td>33</td>\n",
       "      <td>0</td>\n",
       "      <td>0</td>\n",
       "      <td>0</td>\n",
       "      <td>0</td>\n",
       "      <td>0</td>\n",
       "      <td>53278.0</td>\n",
       "    </tr>\n",
       "    <tr>\n",
       "      <th>3</th>\n",
       "      <td>57513</td>\n",
       "      <td>66113</td>\n",
       "      <td>88.48</td>\n",
       "      <td>67</td>\n",
       "      <td>22807</td>\n",
       "      <td>45</td>\n",
       "      <td>1501</td>\n",
       "      <td>6</td>\n",
       "      <td>1998</td>\n",
       "      <td>1</td>\n",
       "      <td>...</td>\n",
       "      <td>1</td>\n",
       "      <td>1</td>\n",
       "      <td>0</td>\n",
       "      <td>25</td>\n",
       "      <td>8</td>\n",
       "      <td>15</td>\n",
       "      <td>12</td>\n",
       "      <td>0</td>\n",
       "      <td>1</td>\n",
       "      <td>57513.0</td>\n",
       "    </tr>\n",
       "    <tr>\n",
       "      <th>4</th>\n",
       "      <td>52378</td>\n",
       "      <td>60300</td>\n",
       "      <td>88.39</td>\n",
       "      <td>67</td>\n",
       "      <td>22807</td>\n",
       "      <td>45</td>\n",
       "      <td>1495</td>\n",
       "      <td>6</td>\n",
       "      <td>1998</td>\n",
       "      <td>1</td>\n",
       "      <td>...</td>\n",
       "      <td>1</td>\n",
       "      <td>1</td>\n",
       "      <td>0</td>\n",
       "      <td>41</td>\n",
       "      <td>0</td>\n",
       "      <td>0</td>\n",
       "      <td>0</td>\n",
       "      <td>0</td>\n",
       "      <td>1</td>\n",
       "      <td>52378.0</td>\n",
       "    </tr>\n",
       "  </tbody>\n",
       "</table>\n",
       "<p>5 rows × 41 columns</p>\n",
       "</div>"
      ],
      "text/plain": [
       "   disbursed_amount  asset_cost    ltv  branch_id  supplier_id  \\\n",
       "0             50578       58400  89.55         67        22807   \n",
       "1             47145       65550  73.23         67        22807   \n",
       "2             53278       61360  89.63         67        22807   \n",
       "3             57513       66113  88.48         67        22807   \n",
       "4             52378       60300  88.39         67        22807   \n",
       "\n",
       "   manufacturer_id  current_pincode_id  state_id  employee_code_id  \\\n",
       "0               45                1441         6              1998   \n",
       "1               45                1502         6              1998   \n",
       "2               45                1497         6              1998   \n",
       "3               45                1501         6              1998   \n",
       "4               45                1495         6              1998   \n",
       "\n",
       "   aadhar_flag  ...  no_of_inquiries  employment_self  employment_none  \\\n",
       "0            1  ...                0                0                0   \n",
       "1            1  ...                0                1                0   \n",
       "2            1  ...                0                1                0   \n",
       "3            1  ...                1                1                0   \n",
       "4            1  ...                1                1                0   \n",
       "\n",
       "   age_at_disbursal  average_acct_age_months  credit_history_length_months  \\\n",
       "0                34                        0                             0   \n",
       "1                33                       23                            23   \n",
       "2                33                        0                             0   \n",
       "3                25                        8                            15   \n",
       "4                41                        0                             0   \n",
       "\n",
       "   cns_score_category  cns_score_unreliable  loan_default  \\\n",
       "0                   0                     0             0   \n",
       "1                   9                     0             1   \n",
       "2                   0                     0             0   \n",
       "3                  12                     0             1   \n",
       "4                   0                     0             1   \n",
       "\n",
       "   disbursed_amount_treated  \n",
       "0                   50578.0  \n",
       "1                   47145.0  \n",
       "2                   53278.0  \n",
       "3                   57513.0  \n",
       "4                   52378.0  \n",
       "\n",
       "[5 rows x 41 columns]"
      ]
     },
     "execution_count": 2,
     "metadata": {},
     "output_type": "execute_result"
    }
   ],
   "source": [
    "df = pd.read_csv('../data/train_resampled.csv')\n",
    "df.head()"
   ]
  },
  {
   "cell_type": "code",
   "execution_count": 3,
   "id": "d308b33f-c202-4ea9-9b8a-c3e781688e2e",
   "metadata": {},
   "outputs": [],
   "source": [
    "features = ['disbursed_amount_treated', 'pri_active_accts',  'pri_overdue_accts', 'sec_active_accts', 'sec_overdue_accts',\n",
    "            'sec_current_balance', 'perform_cns_score', 'no_of_inquiries', 'age_at_disbursal', 'cns_score_unreliable',\n",
    "            'credit_history_length_months', 'primary_instal_amt', 'sec_instal_amt']"
   ]
  },
  {
   "cell_type": "markdown",
   "id": "c854c7dd-49d9-4267-ba8d-3821e7d20b81",
   "metadata": {},
   "source": [
    "* exploring a new set of features"
   ]
  },
  {
   "cell_type": "code",
   "execution_count": 4,
   "id": "3f5fe574-6715-4706-b74c-3a307ee10803",
   "metadata": {},
   "outputs": [],
   "source": [
    "X = df[features]\n",
    "y = df['loan_default']\n",
    "X_train, X_test, y_train, y_test = train_test_split(X, y, random_state = 42)"
   ]
  },
  {
   "cell_type": "markdown",
   "id": "b6717e1d-19dd-4835-af16-b3e85dcbd8db",
   "metadata": {},
   "source": [
    "### Logistic Regression"
   ]
  },
  {
   "cell_type": "code",
   "execution_count": 5,
   "id": "3bf3e7ad-b57a-4fec-8f3a-27610b69ff9f",
   "metadata": {},
   "outputs": [
    {
     "name": "stderr",
     "output_type": "stream",
     "text": [
      "C:\\Users\\David\\anaconda3\\lib\\site-packages\\sklearn\\model_selection\\_validation.py:372: FitFailedWarning: \n",
      "20 fits failed out of a total of 40.\n",
      "The score on these train-test partitions for these parameters will be set to nan.\n",
      "If these failures are not expected, you can try to debug them by setting error_score='raise'.\n",
      "\n",
      "Below are more details about the failures:\n",
      "--------------------------------------------------------------------------------\n",
      "10 fits failed with the following error:\n",
      "Traceback (most recent call last):\n",
      "  File \"C:\\Users\\David\\anaconda3\\lib\\site-packages\\sklearn\\model_selection\\_validation.py\", line 680, in _fit_and_score\n",
      "    estimator.fit(X_train, y_train, **fit_params)\n",
      "  File \"C:\\Users\\David\\anaconda3\\lib\\site-packages\\sklearn\\pipeline.py\", line 394, in fit\n",
      "    self._final_estimator.fit(Xt, y, **fit_params_last_step)\n",
      "  File \"C:\\Users\\David\\anaconda3\\lib\\site-packages\\sklearn\\linear_model\\_logistic.py\", line 1461, in fit\n",
      "    solver = _check_solver(self.solver, self.penalty, self.dual)\n",
      "  File \"C:\\Users\\David\\anaconda3\\lib\\site-packages\\sklearn\\linear_model\\_logistic.py\", line 457, in _check_solver\n",
      "    raise ValueError(\n",
      "ValueError: Only 'saga' solver supports elasticnet penalty, got solver=liblinear.\n",
      "\n",
      "--------------------------------------------------------------------------------\n",
      "10 fits failed with the following error:\n",
      "Traceback (most recent call last):\n",
      "  File \"C:\\Users\\David\\anaconda3\\lib\\site-packages\\sklearn\\model_selection\\_validation.py\", line 680, in _fit_and_score\n",
      "    estimator.fit(X_train, y_train, **fit_params)\n",
      "  File \"C:\\Users\\David\\anaconda3\\lib\\site-packages\\sklearn\\pipeline.py\", line 394, in fit\n",
      "    self._final_estimator.fit(Xt, y, **fit_params_last_step)\n",
      "  File \"C:\\Users\\David\\anaconda3\\lib\\site-packages\\sklearn\\linear_model\\_logistic.py\", line 1461, in fit\n",
      "    solver = _check_solver(self.solver, self.penalty, self.dual)\n",
      "  File \"C:\\Users\\David\\anaconda3\\lib\\site-packages\\sklearn\\linear_model\\_logistic.py\", line 441, in _check_solver\n",
      "    raise ValueError(\n",
      "ValueError: Logistic Regression supports only penalties in ['l1', 'l2', 'elasticnet', 'none'], got None.\n",
      "\n",
      "  warnings.warn(some_fits_failed_message, FitFailedWarning)\n",
      "C:\\Users\\David\\anaconda3\\lib\\site-packages\\sklearn\\model_selection\\_search.py:969: UserWarning: One or more of the test scores are non-finite: [0.56555179 0.56554084 0.56555545 0.56555545        nan        nan\n",
      "        nan        nan]\n",
      "  warnings.warn(\n"
     ]
    },
    {
     "name": "stdout",
     "output_type": "stream",
     "text": [
      "0.5655554451184404\n"
     ]
    },
    {
     "data": {
      "text/plain": [
       "{'lr__penalty': 'l2', 'lr__warm_start': True}"
      ]
     },
     "execution_count": 5,
     "metadata": {},
     "output_type": "execute_result"
    }
   ],
   "source": [
    "lr_pipe = Pipeline([\n",
    "    ('ss', StandardScaler()),\n",
    "    ('lr', LogisticRegression(solver = 'liblinear'))\n",
    "])\n",
    "\n",
    "pipe_params = {\n",
    "    'lr__penalty': ['l1', 'l2', 'elasticnet', None],\n",
    "    'lr__warm_start': [True, False]\n",
    "}\n",
    "\n",
    "gs_lr = GridSearchCV(lr_pipe,\n",
    "                 param_grid=pipe_params,\n",
    "                 n_jobs = -1)\n",
    "\n",
    "gs_lr.fit(X_train, y_train)\n",
    "print(gs_lr.best_score_)\n",
    "gs_lr.best_params_"
   ]
  },
  {
   "cell_type": "code",
   "execution_count": 6,
   "id": "de18c6bd-1ed5-4b2a-9b41-457975311a16",
   "metadata": {},
   "outputs": [
    {
     "name": "stdout",
     "output_type": "stream",
     "text": [
      " Training Accuracy Score: 0.5656577092478836\n",
      " Test Accuracy Score: 0.5676877903409588\n"
     ]
    }
   ],
   "source": [
    "print(f' Training Accuracy Score: {gs_lr.score(X_train, y_train)}')\n",
    "print(f' Test Accuracy Score: {gs_lr.score(X_test, y_test)}')"
   ]
  },
  {
   "cell_type": "code",
   "execution_count": 7,
   "id": "6d9b2a27-e243-40cc-8a16-ea4527b9e6b7",
   "metadata": {},
   "outputs": [
    {
     "name": "stdout",
     "output_type": "stream",
     "text": [
      " Training Misclassification Rate: 0.4343422907521164\n",
      " Test Misclassification Rate: 0.43231220965904116\n"
     ]
    }
   ],
   "source": [
    "print(f' Training Misclassification Rate: {1 - gs_lr.score(X_train, y_train)}')\n",
    "print(f' Test Misclassification Rate: {1 - gs_lr.score(X_test, y_test)}')"
   ]
  },
  {
   "cell_type": "code",
   "execution_count": 8,
   "id": "6e950d37-ba04-479d-84c0-9d8446da9e66",
   "metadata": {},
   "outputs": [],
   "source": [
    "predslr = gs_lr.best_estimator_.predict(X_test)"
   ]
  },
  {
   "cell_type": "code",
   "execution_count": 9,
   "id": "d6ddd18a-569b-4bbb-8198-509ec82f3c54",
   "metadata": {},
   "outputs": [
    {
     "data": {
      "text/plain": [
       "0.5768942074674559"
      ]
     },
     "execution_count": 9,
     "metadata": {},
     "output_type": "execute_result"
    }
   ],
   "source": [
    "f1_score(y_test, predslr)"
   ]
  },
  {
   "cell_type": "markdown",
   "id": "e48c8394-28da-479f-9809-e83e7dce16ad",
   "metadata": {},
   "source": [
    "## Random Forest"
   ]
  },
  {
   "cell_type": "code",
   "execution_count": 10,
   "id": "78f7db10-743c-4100-99a6-58d0af69fa7c",
   "metadata": {},
   "outputs": [
    {
     "name": "stdout",
     "output_type": "stream",
     "text": [
      "0.6087124766334185\n"
     ]
    },
    {
     "data": {
      "text/plain": [
       "{'rf__n_estimators': 100, 'rf__min_samples_leaf': 1, 'rf__max_depth': 3}"
      ]
     },
     "execution_count": 10,
     "metadata": {},
     "output_type": "execute_result"
    }
   ],
   "source": [
    "rf_pipe = Pipeline([\n",
    "    ('ss', StandardScaler()),\n",
    "    ('rf', RandomForestClassifier())\n",
    "])\n",
    "\n",
    "rf_params = {\n",
    "    'rf__n_estimators' :[100, 150],\n",
    "    'rf__max_depth': [1, 2, 3],\n",
    "    'rf__min_samples_leaf': [1, 2]\n",
    "}\n",
    "\n",
    "rs_rf = RandomizedSearchCV(rf_pipe, param_distributions= rf_params, cv=5, n_jobs = -1)\n",
    "#gs_rf = GridSearchCV(rf_pipe, param_grid= rf_params, cv=5, n_jobs = -1)\n",
    "\n",
    "rs_rf.fit(X_train, y_train)\n",
    "print(rs_rf.best_score_)\n",
    "rs_rf.best_params_"
   ]
  },
  {
   "cell_type": "code",
   "execution_count": 11,
   "id": "6634cbc6-dadb-4ce3-b4cb-c072f89fef9b",
   "metadata": {},
   "outputs": [
    {
     "name": "stdout",
     "output_type": "stream",
     "text": [
      " Training Accuracy Score: 0.6082669257233012\n",
      " Test Accuracy Score: 0.6079191866070646\n"
     ]
    }
   ],
   "source": [
    "print(f' Training Accuracy Score: {rs_rf.score(X_train, y_train)}')\n",
    "print(f' Test Accuracy Score: {rs_rf.score(X_test, y_test)}')"
   ]
  },
  {
   "cell_type": "code",
   "execution_count": 12,
   "id": "67912bd8-8625-4546-8c43-04dc46dbcc07",
   "metadata": {},
   "outputs": [
    {
     "name": "stdout",
     "output_type": "stream",
     "text": [
      " Training Misclassification Score: 0.3917330742766988\n",
      " Testtest Misclassification Score: 0.39208081339293543\n"
     ]
    }
   ],
   "source": [
    "print(f' Training Misclassification Score: {1 - rs_rf.score(X_train, y_train)}')\n",
    "print(f' Testtest Misclassification Score: {1 - rs_rf.score(X_test, y_test)}')"
   ]
  },
  {
   "cell_type": "code",
   "execution_count": 13,
   "id": "09745e81-cad9-4a0b-b507-d50045ca56fb",
   "metadata": {},
   "outputs": [],
   "source": [
    "preds_rf = rs_rf.predict(X_test)"
   ]
  },
  {
   "cell_type": "code",
   "execution_count": 14,
   "id": "983dc9ce-ed22-4d71-98da-2577dfed2e52",
   "metadata": {},
   "outputs": [
    {
     "data": {
      "text/plain": [
       "0.6157496886140102"
      ]
     },
     "execution_count": 14,
     "metadata": {},
     "output_type": "execute_result"
    }
   ],
   "source": [
    "f1_score(y_test, preds_rf)"
   ]
  },
  {
   "cell_type": "markdown",
   "id": "32e16694-9c6c-4df1-9e64-b749d1a05c77",
   "metadata": {},
   "source": [
    "### Bagging"
   ]
  },
  {
   "cell_type": "code",
   "execution_count": 16,
   "id": "420ce69e-3e07-4871-9ddf-3c75b54961fd",
   "metadata": {},
   "outputs": [
    {
     "name": "stdout",
     "output_type": "stream",
     "text": [
      "0.5278764874824216\n",
      "{'bagg__max_features': 4, 'bagg__max_samples': 3, 'bagg__n_estimators': 15}\n"
     ]
    }
   ],
   "source": [
    "bagg_pipe = Pipeline([\n",
    "    ('ss', StandardScaler()),\n",
    "    ('bagg', BaggingClassifier())\n",
    "])\n",
    "\n",
    "bagg_pipe_params = {\n",
    "    'bagg__n_estimators':[10, 15, 20],\n",
    "    'bagg__max_samples': [1, 2, 3],\n",
    "    'bagg__max_features': [1, 2, 3, 4]\n",
    "}\n",
    "\n",
    "gs_bagg = GridSearchCV(bagg_pipe,\n",
    "                    param_grid = bagg_pipe_params, cv = 5,\n",
    "                    n_jobs = -1)\n",
    "\n",
    "gs_bagg.fit(X_train, y_train)\n",
    "print(gs_bagg.best_score_)\n",
    "print(gs_bagg.best_params_)"
   ]
  },
  {
   "cell_type": "code",
   "execution_count": 17,
   "id": "29aae1c6-c80b-4860-87ab-560323240b8a",
   "metadata": {},
   "outputs": [
    {
     "name": "stdout",
     "output_type": "stream",
     "text": [
      " Training Accuracy Score: 0.5314227906535093\n",
      " Test Accuracy Score: 0.5330988693136998\n"
     ]
    }
   ],
   "source": [
    "print(f' Training Accuracy Score: {gs_bagg.score(X_train, y_train)}')\n",
    "print(f' Test Accuracy Score: {gs_bagg.score(X_test, y_test)}')"
   ]
  },
  {
   "cell_type": "code",
   "execution_count": 18,
   "id": "3deed7c5-2360-4d7f-8d65-9c80ab1c5943",
   "metadata": {},
   "outputs": [
    {
     "name": "stdout",
     "output_type": "stream",
     "text": [
      " Training Misclassification Score: 0.4685772093464907\n",
      " Test Misclassification Score: 0.46690113068630024\n"
     ]
    }
   ],
   "source": [
    "print(f' Training Misclassification Score: {1 - gs_bagg.score(X_train, y_train)}')\n",
    "print(f' Test Misclassification Score: {1 - gs_bagg.score(X_test, y_test)}')"
   ]
  },
  {
   "cell_type": "code",
   "execution_count": 19,
   "id": "d09d766e-a686-472c-b9f3-1de8df8290dc",
   "metadata": {},
   "outputs": [],
   "source": [
    "preds_bagg = gs_bagg.predict(X_test)\n"
   ]
  },
  {
   "cell_type": "code",
   "execution_count": 20,
   "id": "f96d7be7-b0d8-4c24-897b-a26c66d22712",
   "metadata": {},
   "outputs": [
    {
     "data": {
      "text/plain": [
       "0.5620201646471187"
      ]
     },
     "execution_count": 20,
     "metadata": {},
     "output_type": "execute_result"
    }
   ],
   "source": [
    "f1_score(y_test, preds_bagg)\n"
   ]
  },
  {
   "cell_type": "markdown",
   "id": "63a16583-6ef3-423d-a8dc-d370584fcbbc",
   "metadata": {},
   "source": [
    "### AdaBoost"
   ]
  },
  {
   "cell_type": "code",
   "execution_count": 21,
   "id": "fad78d31-59b8-49e8-81e5-1d424e5467ab",
   "metadata": {},
   "outputs": [
    {
     "name": "stdout",
     "output_type": "stream",
     "text": [
      "0.6351209187343446\n",
      "{'ada__learning_rate': 1.5, 'ada__n_estimators': 200}\n"
     ]
    }
   ],
   "source": [
    "ada_pipe = Pipeline([\n",
    "    ('ss', StandardScaler()),\n",
    "    ('ada', AdaBoostClassifier())\n",
    "])\n",
    "\n",
    "ada_pipe_params = {\n",
    "    'ada__n_estimators':[50, 100, 150, 200],\n",
    "    'ada__learning_rate': [1.0, 1.5, 2.0]\n",
    "}\n",
    "\n",
    "gs_ada = GridSearchCV(ada_pipe,\n",
    "                    param_grid = ada_pipe_params, cv = 5,\n",
    "                    n_jobs = -1)\n",
    "\n",
    "gs_ada.fit(X_train, y_train)\n",
    "print(gs_ada.best_score_)\n",
    "print(gs_ada.best_params_)"
   ]
  },
  {
   "cell_type": "code",
   "execution_count": 22,
   "id": "7e03f032-6677-4efe-b00f-66b4c78e8113",
   "metadata": {},
   "outputs": [
    {
     "name": "stdout",
     "output_type": "stream",
     "text": [
      " Training Accuracy Score: 0.6380535692112164\n",
      " Test Accuracy Score: 0.6380927338066439\n"
     ]
    }
   ],
   "source": [
    "print(f' Training Accuracy Score: {gs_ada.score(X_train, y_train)}')\n",
    "print(f' Test Accuracy Score: {gs_ada.score(X_test, y_test)}')"
   ]
  },
  {
   "cell_type": "code",
   "execution_count": 23,
   "id": "71db91e7-e2d0-4c51-82fb-09cc1c166305",
   "metadata": {},
   "outputs": [
    {
     "name": "stdout",
     "output_type": "stream",
     "text": [
      " Training Misclassification Score: 0.36194643078878364\n",
      " Testtest Misclassification Score: 0.3619072661933561\n"
     ]
    }
   ],
   "source": [
    "print(f' Training Misclassification Score: {1 - gs_ada.score(X_train, y_train)}')\n",
    "print(f' Testtest Misclassification Score: {1 - gs_ada.score(X_test, y_test)}')"
   ]
  },
  {
   "cell_type": "code",
   "execution_count": 24,
   "id": "3710190f-afb6-4181-88f7-1cfb7aae5158",
   "metadata": {},
   "outputs": [],
   "source": [
    "preds_ada = gs_ada.predict(X_test)"
   ]
  },
  {
   "cell_type": "code",
   "execution_count": 25,
   "id": "72029f21-1be3-449f-852e-14f6b30b9526",
   "metadata": {},
   "outputs": [
    {
     "data": {
      "text/plain": [
       "0.650580743436224"
      ]
     },
     "execution_count": 25,
     "metadata": {},
     "output_type": "execute_result"
    }
   ],
   "source": [
    "f1_score(y_test, preds_ada)"
   ]
  },
  {
   "cell_type": "markdown",
   "id": "cf1b5a8b-942b-4455-bcd7-03c9fb099ec7",
   "metadata": {},
   "source": [
    "### Stacked"
   ]
  },
  {
   "cell_type": "code",
   "execution_count": 26,
   "id": "a5a89485-9cb3-4d5e-ba48-017cc0911275",
   "metadata": {},
   "outputs": [],
   "source": [
    "level1_estimators = [\n",
    "    #('ss', StandardScaler()),\n",
    "    #('nb', gs_nb.best_estimator_),\n",
    "    ('ada', gs_ada.best_estimator_),\n",
    "    ('rf', rs_rf.best_estimator_)\n",
    "]\n",
    "\n",
    "stacked_model = StackingClassifier(estimators=level1_estimators,\n",
    "                                 final_estimator=LogisticRegression())"
   ]
  },
  {
   "cell_type": "code",
   "execution_count": null,
   "id": "8ace413b-4a39-443b-b4fa-feca6b999408",
   "metadata": {},
   "outputs": [],
   "source": [
    "stacked_model.fit(X_train, y_train)"
   ]
  },
  {
   "cell_type": "code",
   "execution_count": null,
   "id": "0ac0d69d-c885-4a4c-bc57-96228a9f6aaa",
   "metadata": {},
   "outputs": [],
   "source": [
    "print(f' Training Accuracy Score: {stacked_model.score(X_train, y_train)}')\n",
    "print(f' Test Accuracy Score: {stacked_model.score(X_test, y_test)}')"
   ]
  },
  {
   "cell_type": "code",
   "execution_count": null,
   "id": "fcb5d36f-2bcb-4b80-8d49-27ea714f1471",
   "metadata": {},
   "outputs": [],
   "source": [
    "print(f' Training Misclassification Score: {1 - stacked_model.score(X_train, y_train)}')\n",
    "print(f' Testtest Misclassification Score: {1 - stacked_model.score(X_test, y_test)}')"
   ]
  },
  {
   "cell_type": "code",
   "execution_count": null,
   "id": "ee86a47f-8063-4b96-b57f-9f9b72f121e4",
   "metadata": {},
   "outputs": [],
   "source": []
  },
  {
   "cell_type": "code",
   "execution_count": null,
   "id": "41893f5d-6d2e-497a-ad16-0ca488453980",
   "metadata": {},
   "outputs": [],
   "source": []
  }
 ],
 "metadata": {
  "kernelspec": {
   "display_name": "Python 3 (ipykernel)",
   "language": "python",
   "name": "python3"
  },
  "language_info": {
   "codemirror_mode": {
    "name": "ipython",
    "version": 3
   },
   "file_extension": ".py",
   "mimetype": "text/x-python",
   "name": "python",
   "nbconvert_exporter": "python",
   "pygments_lexer": "ipython3",
   "version": "3.9.13"
  }
 },
 "nbformat": 4,
 "nbformat_minor": 5
}
