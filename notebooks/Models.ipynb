{
 "cells": [
  {
   "cell_type": "code",
   "execution_count": 1,
   "id": "8547ec3c-6b6e-4077-85b2-bd3ebe52275f",
   "metadata": {},
   "outputs": [],
   "source": [
    "import pandas as pd\n",
    "import numpy as np\n",
    "import matplotlib.pyplot as plt\n",
    "import seaborn as sns\n",
    "\n",
    "from sklearn.linear_model import LogisticRegression\n",
    "from sklearn.tree import DecisionTreeClassifier\n",
    "from sklearn.naive_bayes import MultinomialNB\n",
    "from sklearn.ensemble import BaggingClassifier, StackingClassifier, AdaBoostClassifier\n",
    "from sklearn.ensemble import RandomForestClassifier\n",
    "from sklearn.preprocessing import StandardScaler\n",
    "\n",
    "from sklearn.model_selection import train_test_split, GridSearchCV, cross_val_predict, cross_val_score\n",
    "from sklearn.pipeline import Pipeline\n",
    "\n",
    "from sklearn.metrics import (confusion_matrix, ConfusionMatrixDisplay,\n",
    "    accuracy_score, roc_auc_score, recall_score,\n",
    "    precision_score, f1_score, RocCurveDisplay)"
   ]
  },
  {
   "cell_type": "markdown",
   "id": "e0efa3a0-9124-40b6-88ef-91a9d3f4572f",
   "metadata": {},
   "source": [
    "### Logistic Regression"
   ]
  },
  {
   "cell_type": "code",
   "execution_count": null,
   "id": "218260ab-1456-41b4-ac6e-8041bd09004c",
   "metadata": {},
   "outputs": [],
   "source": [
    "pipe = Pipeline([\n",
    "    ('lr', LogisticRegression())\n",
    "])\n",
    "\n",
    "pipe_params = {\n",
    "    'lr__penalty': ['l1', 'l2', 'elasticnet', None],\n",
    "    'lr__warm_start': [True, False]\n",
    "}\n",
    "\n",
    "gs_lr = GridSearchCV(pipe,\n",
    "                 param_grid=pipe_params,\n",
    "                 n_jobs = -1)\n",
    "\n",
    "gs_lr.fit(X_train, y_train)\n",
    "print(gs_lr.best_score_)\n",
    "gs_lr.best_params_"
   ]
  },
  {
   "cell_type": "markdown",
   "id": "f2a47cab-151e-41fd-ae23-5f4c478e7c7c",
   "metadata": {},
   "source": [
    "* Accuracy"
   ]
  },
  {
   "cell_type": "code",
   "execution_count": null,
   "id": "d481bf52-0726-4b36-ba2c-1190cdd79e43",
   "metadata": {},
   "outputs": [],
   "source": [
    "print(f' Training Accuracy Score: {gs_lr.score(X_train, y_train)}')\n",
    "print(f' Test Accuracy Score: {gs_lr.score(X_test, y_test)}')"
   ]
  },
  {
   "cell_type": "markdown",
   "id": "47fee017-6e64-49d1-a446-bac891288d51",
   "metadata": {},
   "source": [
    "* Misclassification"
   ]
  },
  {
   "cell_type": "code",
   "execution_count": null,
   "id": "f488a91a-989f-4524-a804-8fe3bba2acd3",
   "metadata": {},
   "outputs": [],
   "source": [
    "print(f' Training Misclassification Rate: {1 - gs_lr.score(X_train, y_train)}')\n",
    "print(f' Test Misclassification Rate: {1 - gs_lr.score(X_test, y_test)}')"
   ]
  },
  {
   "cell_type": "markdown",
   "id": "95f0e03c-4053-4707-9864-48a1d128ede4",
   "metadata": {},
   "source": [
    "* Preds / F1"
   ]
  },
  {
   "cell_type": "code",
   "execution_count": null,
   "id": "11303440-a7bf-4669-a50a-ad87c0f17ca8",
   "metadata": {},
   "outputs": [],
   "source": [
    "predslr = gs_lr.best_estimator_.predict(X_test)"
   ]
  },
  {
   "cell_type": "code",
   "execution_count": null,
   "id": "5508dbd2-db64-493b-91b4-1ce4aed1c314",
   "metadata": {},
   "outputs": [],
   "source": [
    "f1_score(y_test, predslr)"
   ]
  },
  {
   "cell_type": "markdown",
   "id": "c43ee544-50d2-470c-a3df-e62bcceea148",
   "metadata": {},
   "source": [
    "### Random Forest"
   ]
  },
  {
   "cell_type": "code",
   "execution_count": null,
   "id": "dc9ae38c-8053-484b-871c-08e25d0e34e3",
   "metadata": {},
   "outputs": [],
   "source": [
    "rf = RandomForestClassifier()\n",
    "\n",
    "rf_params = {\n",
    "    'n_estimators' :[100, 150,200],\n",
    "    'max_depth': [1, 2, 3, 4, 5],\n",
    "    'min_samples_leaf': [1, 2],\n",
    "    'min_samples_split': [1, 2]\n",
    "}\n",
    "gs_rf = GridSearchCV(rf, param_grid= rf_params, cv=5, n_jobs = -1)\n",
    "\n",
    "gs_rf.fit(X_train, y_train)\n",
    "print(gs_2.best_score_)\n",
    "gs_rf.best_params_\n"
   ]
  },
  {
   "cell_type": "markdown",
   "id": "d64993cb-cb98-4354-b34a-06de9685f029",
   "metadata": {},
   "source": [
    "* Accuracy"
   ]
  },
  {
   "cell_type": "code",
   "execution_count": null,
   "id": "1360cc80-46a3-4711-abc5-26d83f4896aa",
   "metadata": {},
   "outputs": [],
   "source": [
    "print(f' Training Accuracy Score: {gs_rf.score(X_train, y_train)}')\n",
    "print(f' Test Accuracy Score: {gs_rf.score(X_test, y_test)}')"
   ]
  },
  {
   "cell_type": "markdown",
   "id": "ec763d88-4eac-4e87-9ba1-e011ec4a45e9",
   "metadata": {},
   "source": [
    "* Misclassification"
   ]
  },
  {
   "cell_type": "code",
   "execution_count": null,
   "id": "0995d1a6-d760-458a-a21c-83ef44041945",
   "metadata": {},
   "outputs": [],
   "source": [
    "print(f' Training Misclassification Score: {1 - gs_rf.score(X_train, y_train)}')\n",
    "print(f' Testtest Misclassification Score: {1 - gs_rf.score(X_test, y_test)}')"
   ]
  },
  {
   "cell_type": "markdown",
   "id": "dab8e838-9fdb-4671-923b-486f596fc038",
   "metadata": {},
   "source": [
    "* Preds / F1"
   ]
  },
  {
   "cell_type": "code",
   "execution_count": null,
   "id": "65f446de-e4f1-4a51-be9f-efeb432dcdec",
   "metadata": {},
   "outputs": [],
   "source": [
    "preds_rf = gs_rf.predict(X_test)\n"
   ]
  },
  {
   "cell_type": "code",
   "execution_count": null,
   "id": "e7a91833-bd92-4044-a999-ccd3a895c36c",
   "metadata": {},
   "outputs": [],
   "source": [
    "f1_score(y_test, preds_rf)\n"
   ]
  },
  {
   "cell_type": "code",
   "execution_count": null,
   "id": "e3eeb998-456a-473f-8fb6-36d67726e184",
   "metadata": {},
   "outputs": [],
   "source": []
  },
  {
   "cell_type": "markdown",
   "id": "aa23b60f-b23f-4f31-9f88-f7d1c44962ed",
   "metadata": {},
   "source": [
    "### Naive Bayes"
   ]
  },
  {
   "cell_type": "code",
   "execution_count": null,
   "id": "9a86280b-72fd-4e22-aba2-03d9fbc2e00d",
   "metadata": {},
   "outputs": [],
   "source": [
    "nb_pipe = Pipeline([\n",
    "    ('mnb', MultinomialNB())\n",
    "])\n",
    "\n",
    "nb_pipe_params = {\n",
    "    'mnb__alpha':[1.0, 1.5, 2.0],\n",
    "    'mnb__fit_prior': [True, False]\n",
    "}\n",
    "\n",
    "gs_nb = GridSearchCV(nb_pipe,\n",
    "                    param_grid = nb_pipe_params, cv = 5,\n",
    "                    n_jobs = -1)\n",
    "\n",
    "gs_nb.fit(X_train, y_train)\n",
    "print(gs_nb.best_score_)\n",
    "print(gs_nb.best_params_)"
   ]
  },
  {
   "cell_type": "markdown",
   "id": "f3b3d708-8414-4320-a73c-c33ed65adb80",
   "metadata": {},
   "source": [
    "* Accuracy"
   ]
  },
  {
   "cell_type": "code",
   "execution_count": null,
   "id": "0b96dfad-aa19-4cd6-b6fe-ffa9edc45e0c",
   "metadata": {},
   "outputs": [],
   "source": [
    "print(f' Training Accuracy Score: {gs_nb.score(X_train, y_train)}')\n",
    "print(f' Test Accuracy Score: {gs_nb.score(X_test, y_test)}')\n"
   ]
  },
  {
   "cell_type": "markdown",
   "id": "917acfd5-3ad8-46b5-b033-2c5f753f44bd",
   "metadata": {},
   "source": [
    "* Misclassification"
   ]
  },
  {
   "cell_type": "code",
   "execution_count": null,
   "id": "1023da03-dfed-47be-a129-3b35e13286af",
   "metadata": {},
   "outputs": [],
   "source": [
    "print(f' Training Misclassification Score: {1 - gs_nb.score(X_train, y_train)}')\n",
    "print(f' Testtest Misclassification Score: {1 - gs_nb.score(X_test, y_test)}')"
   ]
  },
  {
   "cell_type": "markdown",
   "id": "6ba68671-b181-4fe6-9b18-06c9569b632c",
   "metadata": {},
   "source": [
    "* Preds / F1"
   ]
  },
  {
   "cell_type": "code",
   "execution_count": null,
   "id": "4df65942-8c33-41c8-9c1d-b6a00050a9f5",
   "metadata": {},
   "outputs": [],
   "source": [
    "preds_nb = gs_nb.predict(X_test)\n"
   ]
  },
  {
   "cell_type": "code",
   "execution_count": null,
   "id": "5f0c4762-9755-4903-a8c2-4110fc287f3b",
   "metadata": {},
   "outputs": [],
   "source": [
    "f1_score(y_test, preds_nb)\n"
   ]
  },
  {
   "cell_type": "markdown",
   "id": "65c4425f-f769-4358-be42-781be5146738",
   "metadata": {},
   "source": [
    "### Bagging"
   ]
  },
  {
   "cell_type": "code",
   "execution_count": null,
   "id": "f712960b-96e9-4913-be8c-2ccf4e27263b",
   "metadata": {},
   "outputs": [],
   "source": [
    "bagg_pipe = Pipeline([\n",
    "    ('bagg', DecisionTreeClassifier())\n",
    "])\n",
    "\n",
    "bagg_pipe_params = {\n",
    "    'bagg__n_estimators':[10, 15, 20],\n",
    "    'bagg__max_samples': [1, 2, 3],\n",
    "    'bagg__max_features': [1, 2, 3, 4]\n",
    "}\n",
    "\n",
    "gs_bagg = GridSearchCV(bagg_pipe,\n",
    "                    param_grid = bagg_pipe_params, cv = 5,\n",
    "                    n_jobs = -1)\n",
    "\n",
    "gs_bagg.fit(X_train, y_train)\n",
    "print(gs_bagg.best_score_)\n",
    "print(gs_bagg.best_params_)"
   ]
  },
  {
   "cell_type": "markdown",
   "id": "925b6d0a-511c-4a7b-a755-274ba83fe9cd",
   "metadata": {},
   "source": [
    "* Accuracy"
   ]
  },
  {
   "cell_type": "code",
   "execution_count": null,
   "id": "1eba2951-685e-4e62-aa35-d8836fd93e73",
   "metadata": {},
   "outputs": [],
   "source": [
    "print(f' Training Accuracy Score: {gs_bagg.score(X_train, y_train)}')\n",
    "print(f' Test Accuracy Score: {gs_bagg.score(X_test, y_test)}')"
   ]
  },
  {
   "cell_type": "markdown",
   "id": "446d84de-719f-4df9-97a7-5fae6d56c089",
   "metadata": {},
   "source": [
    "* Missclassification"
   ]
  },
  {
   "cell_type": "code",
   "execution_count": null,
   "id": "900f5ee0-8f43-4fc5-b8f5-86b994106927",
   "metadata": {},
   "outputs": [],
   "source": [
    "print(f' Training Misclassification Score: {1 - gs_bagg.score(X_train, y_train)}')\n",
    "print(f' Test Misclassification Score: {1 - gs_bagg.score(X_test, y_test)}')"
   ]
  },
  {
   "cell_type": "markdown",
   "id": "d4501c69-226e-468b-a55d-e65622db84b7",
   "metadata": {},
   "source": [
    "* Preds / F1 Score"
   ]
  },
  {
   "cell_type": "code",
   "execution_count": null,
   "id": "353dfc50-288e-4d0e-82cb-94cfd6d62f31",
   "metadata": {},
   "outputs": [],
   "source": [
    "preds_bagg = gs_bagg.predict(X_test)\n"
   ]
  },
  {
   "cell_type": "code",
   "execution_count": null,
   "id": "c9da459f-db6c-4bb2-b134-8d9c81b50796",
   "metadata": {},
   "outputs": [],
   "source": [
    "f1_score(y_test, preds_bagg)\n"
   ]
  },
  {
   "cell_type": "markdown",
   "id": "107e2f73-66c3-4218-abce-dd21f504316f",
   "metadata": {},
   "source": [
    "### AdaBoost"
   ]
  },
  {
   "cell_type": "code",
   "execution_count": null,
   "id": "8ece0c0b-aeaa-4199-b10b-2be0926a2617",
   "metadata": {},
   "outputs": [],
   "source": [
    "ada_pipe = Pipeline([\n",
    "    ('ada', AdaBoostClassifier())\n",
    "])\n",
    "\n",
    "ada_pipe_params = {\n",
    "    'ada__n_estimators':[50, 100, 150, 200],\n",
    "    'ada__learning_rate': [1.0, 1.5, 2.0]\n",
    "}\n",
    "\n",
    "gs_ada = GridSearchCV(ada_pipe,\n",
    "                    param_grid = ada_pipe_params, cv = 5,\n",
    "                    n_jobs = -1)\n",
    "\n",
    "gs_ada.fit(X_train, y_train)\n",
    "print(gs_ada.best_score_)\n",
    "print(gs_ada.best_params_)"
   ]
  },
  {
   "cell_type": "markdown",
   "id": "cd5f3888-a630-4a9a-bd3a-5f9cc8f6d4af",
   "metadata": {},
   "source": [
    "* Accuracy"
   ]
  },
  {
   "cell_type": "code",
   "execution_count": null,
   "id": "e0598052-9de7-4e0c-a9eb-1570f052cd44",
   "metadata": {},
   "outputs": [],
   "source": [
    "print(f' Training Accuracy Score: {gs_ada.score(X_train, y_train)}')\n",
    "print(f' Test Accuracy Score: {gs_ada.score(X_test, y_test)}')"
   ]
  },
  {
   "cell_type": "markdown",
   "id": "c550f646-1b1f-4963-bf5f-206b629cdf9d",
   "metadata": {},
   "source": [
    "* Misclassification"
   ]
  },
  {
   "cell_type": "code",
   "execution_count": null,
   "id": "34442c55-7a1b-4fc9-b534-71ed6a2b2687",
   "metadata": {},
   "outputs": [],
   "source": [
    "print(f' Training Misclassification Score: {1 - gs_ada.score(X_train, y_train)}')\n",
    "print(f' Testtest Misclassification Score: {1 - gs_ada.score(X_test, y_test)}')"
   ]
  },
  {
   "cell_type": "markdown",
   "id": "65cf4b58-3890-486e-8e3d-c19ff258efe1",
   "metadata": {},
   "source": [
    "* Preds / F1"
   ]
  },
  {
   "cell_type": "code",
   "execution_count": null,
   "id": "df319473-303d-469f-9e9c-370aadf85902",
   "metadata": {},
   "outputs": [],
   "source": [
    "preds_ada = gs_ada.predict(X_test)"
   ]
  },
  {
   "cell_type": "code",
   "execution_count": null,
   "id": "65778d9a-ea11-4e0e-bc44-3d5e02a402a7",
   "metadata": {},
   "outputs": [],
   "source": [
    "f1_score(y_test, preds_ada)"
   ]
  },
  {
   "cell_type": "markdown",
   "id": "bd7ecb55-5d34-481f-89dc-1c797a5e5cd1",
   "metadata": {},
   "source": [
    "### Stacking"
   ]
  },
  {
   "cell_type": "code",
   "execution_count": null,
   "id": "9642ddbb-30f5-4ef1-ad29-1f65643baafe",
   "metadata": {},
   "outputs": [],
   "source": [
    "level1_estimators = [\n",
    "    ('nb', gs_nb.best_estimator_),\n",
    "    ('ada', gs_ada.best_estimator_),\n",
    "    ('rf', gs_rf.best_estimator_)\n",
    "]\n",
    "\n",
    "stacked_model = StackingClassifier(estimators=level1_estimators,\n",
    "                                 final_estimator=LogisticRegression())"
   ]
  },
  {
   "cell_type": "code",
   "execution_count": null,
   "id": "bfc62c7e-9001-4136-b914-19908bfda739",
   "metadata": {},
   "outputs": [],
   "source": [
    "stacked_model.fit(X_train, y_train)"
   ]
  },
  {
   "cell_type": "markdown",
   "id": "88492b78-e284-43c2-872f-364daef15de8",
   "metadata": {},
   "source": [
    "* Accuracy"
   ]
  },
  {
   "cell_type": "code",
   "execution_count": null,
   "id": "18cd7fe4-1738-4caf-b91d-d86cf9d58e5e",
   "metadata": {},
   "outputs": [],
   "source": [
    "print(f' Training Accuracy Score: {stacked_model.score(X_train, y_train)}')\n",
    "print(f' Test Accuracy Score: {stacked_model.score(X_test, y_test)}')"
   ]
  },
  {
   "cell_type": "markdown",
   "id": "c8411c6c-d7ad-48f8-a066-6c0afed1eeda",
   "metadata": {},
   "source": [
    "* Misclassification"
   ]
  },
  {
   "cell_type": "code",
   "execution_count": null,
   "id": "00378e2e-4961-454e-9c7b-5f42cba3edbc",
   "metadata": {},
   "outputs": [],
   "source": [
    "print(f' Training Misclassification Score: {1 - stacked_model.score(X_train, y_train)}')\n",
    "print(f' Testtest Misclassification Score: {1 - stacked_model.score(X_test, y_test)}')"
   ]
  },
  {
   "cell_type": "markdown",
   "id": "b4d61eb6-2ff0-455b-a660-23c830cbb502",
   "metadata": {},
   "source": [
    "* Preds / F1"
   ]
  },
  {
   "cell_type": "code",
   "execution_count": null,
   "id": "8ffa05a5-f319-4280-982d-4974e7c77732",
   "metadata": {},
   "outputs": [],
   "source": [
    "preds_stacked_model = stacked_model.predict(X_test)"
   ]
  },
  {
   "cell_type": "code",
   "execution_count": null,
   "id": "03793da0-4238-4b98-90f8-499f9ec8750d",
   "metadata": {},
   "outputs": [],
   "source": [
    "f1_score(y_test, preds_stacked_model)"
   ]
  }
 ],
 "metadata": {
  "kernelspec": {
   "display_name": "Python 3 (ipykernel)",
   "language": "python",
   "name": "python3"
  },
  "language_info": {
   "codemirror_mode": {
    "name": "ipython",
    "version": 3
   },
   "file_extension": ".py",
   "mimetype": "text/x-python",
   "name": "python",
   "nbconvert_exporter": "python",
   "pygments_lexer": "ipython3",
   "version": "3.9.13"
  }
 },
 "nbformat": 4,
 "nbformat_minor": 5
}
