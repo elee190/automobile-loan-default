   "id": "8547ec3c-6b6e-4077-85b2-bd3ebe52275f",
   "metadata": {},
   "outputs": [],
   "source": [
    "import pandas as pd\n",
    "import numpy as np\n",
    "import matplotlib.pyplot as plt\n",
    "import seaborn as sns\n",
    "\n",
    "from sklearn.linear_model import LogisticRegression\n",
    "from sklearn.tree import DecisionTreeClassifier\n",
    "from sklearn.naive_bayes import MultinomialNB\n",
    "from sklearn.ensemble import BaggingClassifier, StackingClassifier, AdaBoostClassifier\n",
    "from sklearn.ensemble import RandomForestClassifier\n",
    "from sklearn.preprocessing import StandardScaler\n",
    "\n",
    "from sklearn.model_selection import train_test_split, GridSearchCV, cross_val_predict, cross_val_score\n",
    "from sklearn.pipeline import Pipeline\n",
    "\n",
    "from sklearn.metrics import (confusion_matrix, ConfusionMatrixDisplay,\n",
    "    accuracy_score, roc_auc_score, recall_score,\n",
    "    precision_score, f1_score, RocCurveDisplay)\n",
    "\n",
    "from sklearn.model_selection import RandomizedSearchCV\n",
    "\n"
   ]
  },
  {
   "cell_type": "code",
   "execution_count": 3,
   "id": "5da6f641-c40e-4e66-a768-5103c36d0da5",
   "metadata": {},
   "outputs": [
    {
     "data": {
      "text/html": [
       "<div>\n",
       "<style scoped>\n",
       "    .dataframe tbody tr th:only-of-type {\n",
       "        vertical-align: middle;\n",
       "    }\n",
       "\n",
       "    .dataframe tbody tr th {\n",
       "        vertical-align: top;\n",
       "    }\n",
       "\n",
       "    .dataframe thead th {\n",
       "        text-align: right;\n",
       "    }\n",
       "</style>\n",
       "<table border=\"1\" class=\"dataframe\">\n",
       "  <thead>\n",
       "    <tr style=\"text-align: right;\">\n",
       "      <th></th>\n",
       "      <th>disbursed_amount</th>\n",
       "      <th>asset_cost</th>\n",
       "      <th>ltv</th>\n",
       "      <th>branch_id</th>\n",
       "      <th>supplier_id</th>\n",
       "      <th>manufacturer_id</th>\n",
       "      <th>current_pincode_id</th>\n",
       "      <th>state_id</th>\n",
       "      <th>employee_code_id</th>\n",
       "      <th>mobileno_avl_flag</th>\n",
       "      <th>...</th>\n",
       "      <th>delinquent_accts_in_last_six_months</th>\n",
       "      <th>no_of_inquiries</th>\n",
       "      <th>employment_self</th>\n",
       "      <th>employment_none</th>\n",
       "      <th>age_at_disbursal</th>\n",
       "      <th>average_acct_age_months</th>\n",
       "      <th>credit_history_length_months</th>\n",
       "      <th>cns_score_category</th>\n",
       "      <th>cns_score_unreliable</th>\n",
       "      <th>loan_default</th>\n",
       "    </tr>\n",
       "  </thead>\n",
       "  <tbody>\n",
       "    <tr>\n",
       "      <th>0</th>\n",
       "      <td>50578</td>\n",
       "      <td>58400</td>\n",
       "      <td>89.55</td>\n",
       "      <td>67</td>\n",
       "      <td>22807</td>\n",
       "      <td>45</td>\n",
       "      <td>1441</td>\n",
       "      <td>6</td>\n",
       "      <td>1998</td>\n",
       "      <td>1</td>\n",
       "      <td>...</td>\n",
       "      <td>0</td>\n",
       "      <td>0</td>\n",
       "      <td>0</td>\n",
       "      <td>0</td>\n",
       "      <td>34</td>\n",
       "      <td>0</td>\n",
       "      <td>0</td>\n",
       "      <td>0</td>\n",
       "      <td>0</td>\n",
       "      <td>0</td>\n",
       "    </tr>\n",
       "    <tr>\n",
       "      <th>1</th>\n",
       "      <td>47145</td>\n",
       "      <td>65550</td>\n",
       "      <td>73.23</td>\n",
       "      <td>67</td>\n",
       "      <td>22807</td>\n",
       "      <td>45</td>\n",
       "      <td>1502</td>\n",
       "      <td>6</td>\n",
       "      <td>1998</td>\n",
       "      <td>1</td>\n",
       "      <td>...</td>\n",
       "      <td>1</td>\n",
       "      <td>0</td>\n",
       "      <td>1</td>\n",
       "      <td>0</td>\n",
       "      <td>33</td>\n",
       "      <td>23</td>\n",
       "      <td>23</td>\n",
       "      <td>9</td>\n",
       "      <td>0</td>\n",
       "      <td>1</td>\n",
       "    </tr>\n",
       "    <tr>\n",
       "      <th>2</th>\n",
       "      <td>53278</td>\n",
       "      <td>61360</td>\n",
       "      <td>89.63</td>\n",
       "      <td>67</td>\n",
       "      <td>22807</td>\n",
       "      <td>45</td>\n",
       "      <td>1497</td>\n",
       "      <td>6</td>\n",
       "      <td>1998</td>\n",
       "      <td>1</td>\n",
       "      <td>...</td>\n",
       "      <td>0</td>\n",
       "      <td>0</td>\n",
       "      <td>1</td>\n",
       "      <td>0</td>\n",
       "      <td>33</td>\n",
       "      <td>0</td>\n",
       "      <td>0</td>\n",
       "      <td>0</td>\n",
       "      <td>0</td>\n",
       "      <td>0</td>\n",
       "    </tr>\n",
       "    <tr>\n",
       "      <th>3</th>\n",
       "      <td>57513</td>\n",
       "      <td>66113</td>\n",
       "      <td>88.48</td>\n",
       "      <td>67</td>\n",
       "      <td>22807</td>\n",
       "      <td>45</td>\n",
       "      <td>1501</td>\n",
       "      <td>6</td>\n",
       "      <td>1998</td>\n",
       "      <td>1</td>\n",
       "      <td>...</td>\n",
       "      <td>0</td>\n",
       "      <td>1</td>\n",
       "      <td>1</td>\n",
       "      <td>0</td>\n",
       "      <td>25</td>\n",
       "      <td>8</td>\n",
       "      <td>15</td>\n",
       "      <td>12</td>\n",
       "      <td>0</td>\n",
       "      <td>1</td>\n",
       "    </tr>\n",
       "    <tr>\n",
       "      <th>4</th>\n",
       "      <td>52378</td>\n",
       "      <td>60300</td>\n",
       "      <td>88.39</td>\n",
       "      <td>67</td>\n",
       "      <td>22807</td>\n",
       "      <td>45</td>\n",
       "      <td>1495</td>\n",
       "      <td>6</td>\n",
       "      <td>1998</td>\n",
       "      <td>1</td>\n",
       "      <td>...</td>\n",
       "      <td>0</td>\n",
       "      <td>1</td>\n",
       "      <td>1</td>\n",
       "      <td>0</td>\n",
       "      <td>41</td>\n",
       "      <td>0</td>\n",
       "      <td>0</td>\n",
       "      <td>0</td>\n",
       "      <td>0</td>\n",
       "      <td>1</td>\n",
       "    </tr>\n",
       "  </tbody>\n",
       "</table>\n",
       "<p>5 rows × 41 columns</p>\n",
       "</div>"
      ],
      "text/plain": [
       "   disbursed_amount  asset_cost    ltv  branch_id  supplier_id  \\\n",
       "0             50578       58400  89.55         67        22807   \n",
       "1             47145       65550  73.23         67        22807   \n",
       "2             53278       61360  89.63         67        22807   \n",
       "3             57513       66113  88.48         67        22807   \n",
       "4             52378       60300  88.39         67        22807   \n",
       "\n",
       "   manufacturer_id  current_pincode_id  state_id  employee_code_id  \\\n",
       "0               45                1441         6              1998   \n",
       "1               45                1502         6              1998   \n",
       "2               45                1497         6              1998   \n",
       "3               45                1501         6              1998   \n",
       "4               45                1495         6              1998   \n",
       "\n",
       "   mobileno_avl_flag  ...  delinquent_accts_in_last_six_months  \\\n",
       "0                  1  ...                                    0   \n",
       "1                  1  ...                                    1   \n",
       "2                  1  ...                                    0   \n",
       "3                  1  ...                                    0   \n",
       "4                  1  ...                                    0   \n",
       "\n",
       "   no_of_inquiries  employment_self  employment_none  age_at_disbursal  \\\n",
       "0                0                0                0                34   \n",
       "1                0                1                0                33   \n",
       "2                0                1                0                33   \n",
       "3                1                1                0                25   \n",
       "4                1                1                0                41   \n",
       "\n",
       "   average_acct_age_months  credit_history_length_months  cns_score_category  \\\n",
       "0                        0                             0                   0   \n",
       "1                       23                            23                   9   \n",
       "2                        0                             0                   0   \n",
       "3                        8                            15                  12   \n",
       "4                        0                             0                   0   \n",
       "\n",
       "   cns_score_unreliable  loan_default  \n",
       "0                     0             0  \n",
       "1                     0             1  \n",
       "2                     0             0  \n",
       "3                     0             1  \n",
       "4                     0             1  \n",
       "\n",
       "[5 rows x 41 columns]"
      ]
     },
     "execution_count": 3,
     "metadata": {},
     "output_type": "execute_result"
    }
   ],
   "source": [
    "df = pd.read_csv('../data/train_resampled', index_col=0)\n",
    "df.head()"
   ]
  },
  {
   "cell_type": "code",
   "execution_count": 4,
   "id": "b40c5b76-48ea-4760-a741-56d698426db1",
   "metadata": {},
   "outputs": [],
   "source": [
    "X = df[['disbursed_amount', 'asset_cost', 'ltv', 'perform_cns_score', 'aadhar_flag', 'voterid_flag', 'employment_self']]\n",
    "y = df['loan_default']"
   ]
  },
  {
   "cell_type": "code",
   "execution_count": 5,
   "id": "d2bd0c07-00ca-4ed3-942d-e58bed5156e8",
   "metadata": {},
   "outputs": [],
   "source": [
    "X_train, X_test, y_train, y_test = train_test_split(X, y, random_state = 42)"
   ]
  },
  {
   "cell_type": "markdown",
   "id": "e0efa3a0-9124-40b6-88ef-91a9d3f4572f",
   "metadata": {},
   "source": [
    "### Logistic Regression"
   ]
  },
  {
   "cell_type": "code",
   "execution_count": 6,
   "id": "218260ab-1456-41b4-ac6e-8041bd09004c",
   "metadata": {},
   "outputs": [
    {
     "name": "stderr",
     "output_type": "stream",
     "text": [
      "/Users/oseianom/opt/anaconda3/lib/python3.9/site-packages/sklearn/model_selection/_validation.py:372: FitFailedWarning: \n",
      "20 fits failed out of a total of 40.\n",
      "The score on these train-test partitions for these parameters will be set to nan.\n",
      "If these failures are not expected, you can try to debug them by setting error_score='raise'.\n",
      "\n",
      "Below are more details about the failures:\n",
      "--------------------------------------------------------------------------------\n",
      "10 fits failed with the following error:\n",
      "Traceback (most recent call last):\n",
      "  File \"/Users/oseianom/opt/anaconda3/lib/python3.9/site-packages/sklearn/model_selection/_validation.py\", line 680, in _fit_and_score\n",
      "    estimator.fit(X_train, y_train, **fit_params)\n",
      "  File \"/Users/oseianom/opt/anaconda3/lib/python3.9/site-packages/sklearn/pipeline.py\", line 394, in fit\n",
      "    self._final_estimator.fit(Xt, y, **fit_params_last_step)\n",
      "  File \"/Users/oseianom/opt/anaconda3/lib/python3.9/site-packages/sklearn/linear_model/_logistic.py\", line 1461, in fit\n",
      "    solver = _check_solver(self.solver, self.penalty, self.dual)\n",
      "  File \"/Users/oseianom/opt/anaconda3/lib/python3.9/site-packages/sklearn/linear_model/_logistic.py\", line 457, in _check_solver\n",
      "    raise ValueError(\n",
      "ValueError: Only 'saga' solver supports elasticnet penalty, got solver=liblinear.\n",
      "\n",
      "--------------------------------------------------------------------------------\n",
      "10 fits failed with the following error:\n",
      "Traceback (most recent call last):\n",
      "  File \"/Users/oseianom/opt/anaconda3/lib/python3.9/site-packages/sklearn/model_selection/_validation.py\", line 680, in _fit_and_score\n",
      "    estimator.fit(X_train, y_train, **fit_params)\n",
      "  File \"/Users/oseianom/opt/anaconda3/lib/python3.9/site-packages/sklearn/pipeline.py\", line 394, in fit\n",
      "    self._final_estimator.fit(Xt, y, **fit_params_last_step)\n",
      "  File \"/Users/oseianom/opt/anaconda3/lib/python3.9/site-packages/sklearn/linear_model/_logistic.py\", line 1461, in fit\n",
      "    solver = _check_solver(self.solver, self.penalty, self.dual)\n",
      "  File \"/Users/oseianom/opt/anaconda3/lib/python3.9/site-packages/sklearn/linear_model/_logistic.py\", line 441, in _check_solver\n",
      "    raise ValueError(\n",
      "ValueError: Logistic Regression supports only penalties in ['l1', 'l2', 'elasticnet', 'none'], got None.\n",
      "\n",
      "  warnings.warn(some_fits_failed_message, FitFailedWarning)\n",
      "/Users/oseianom/opt/anaconda3/lib/python3.9/site-packages/sklearn/model_selection/_search.py:969: UserWarning: One or more of the test scores are non-finite: [0.58606207 0.58606207 0.5860292  0.5860292         nan        nan\n",
      "        nan        nan]\n",
      "  warnings.warn(\n"
     ]
    },
    {
     "name": "stdout",
     "output_type": "stream",
     "text": [
      "0.586062071604448\n"
     ]
    },
    {
     "data": {
      "text/plain": [
       "{'lr__penalty': 'l1', 'lr__warm_start': False}"
      ]
     },
     "execution_count": 6,
     "metadata": {},
     "output_type": "execute_result"
    }
   ],
   "source": [
    "lr_pipe = Pipeline([\n",
    "    ('ss', StandardScaler()),\n",
    "    ('lr', LogisticRegression(solver = 'liblinear'))\n",
    "])\n",
    "\n",
    "pipe_params = {\n",
    "    'lr__penalty': ['l1', 'l2', 'elasticnet', None],\n",
    "    'lr__warm_start': [True, False]\n",
    "}\n",
    "\n",
    "gs_lr = GridSearchCV(lr_pipe,\n",
    "                 param_grid=pipe_params,\n",
    "                 n_jobs = -1)\n",
    "\n",
    "gs_lr.fit(X_train, y_train)\n",
    "print(gs_lr.best_score_)\n",
    "gs_lr.best_params_"
   ]
  },
  {
   "cell_type": "markdown",
   "id": "f2a47cab-151e-41fd-ae23-5f4c478e7c7c",
   "metadata": {},
   "source": [
    "* Accuracy"
   ]
  },
  {
   "cell_type": "code",
   "execution_count": 7,
   "id": "d481bf52-0726-4b36-ba2c-1190cdd79e43",
   "metadata": {},
   "outputs": [
    {
     "name": "stdout",
     "output_type": "stream",
     "text": [
      " Training Accuracy Score: 0.5861533741883176\n",
      " Test Accuracy Score: 0.5876391445350162\n"
     ]
    }
   ],
   "source": [
    "print(f' Training Accuracy Score: {gs_lr.score(X_train, y_train)}')\n",
    "print(f' Test Accuracy Score: {gs_lr.score(X_test, y_test)}')"
   ]
  },
  {
   "cell_type": "markdown",
   "id": "47fee017-6e64-49d1-a446-bac891288d51",
   "metadata": {},
   "source": [
    "* Misclassification"
   ]
  },
  {
   "cell_type": "code",
   "execution_count": 8,
   "id": "f488a91a-989f-4524-a804-8fe3bba2acd3",
   "metadata": {},
   "outputs": [
    {
     "name": "stdout",
     "output_type": "stream",
     "text": [
      " Training Misclassification Rate: 0.4138466258116824\n",
      " Test Misclassification Rate: 0.4123608554649838\n"
     ]
    }
   ],
   "source": [
    "print(f' Training Misclassification Rate: {1 - gs_lr.score(X_train, y_train)}')\n",
    "print(f' Test Misclassification Rate: {1 - gs_lr.score(X_test, y_test)}')"
   ]
  },
  {
   "cell_type": "markdown",
   "id": "95f0e03c-4053-4707-9864-48a1d128ede4",
   "metadata": {},
   "source": [
    "* Preds / F1"
   ]
  },
  {
   "cell_type": "code",
   "execution_count": 9,
   "id": "11303440-a7bf-4669-a50a-ad87c0f17ca8",
   "metadata": {},
   "outputs": [],
   "source": [
    "predslr = gs_lr.best_estimator_.predict(X_test)"
   ]
  },
  {
   "cell_type": "code",
   "execution_count": 10,
   "id": "5508dbd2-db64-493b-91b4-1ce4aed1c314",
   "metadata": {},
   "outputs": [
    {
     "data": {
      "text/plain": [
       "0.6052463211772233"
      ]
     },
     "execution_count": 10,
     "metadata": {},
     "output_type": "execute_result"
    }
   ],
   "source": [
    "f1_score(y_test, predslr)"
   ]
  },
  {
   "cell_type": "markdown",
   "id": "c43ee544-50d2-470c-a3df-e62bcceea148",
   "metadata": {},
   "source": [
    "### Random Forest"
   ]
  },
  {
   "cell_type": "code",
   "execution_count": 11,
   "id": "dc9ae38c-8053-484b-871c-08e25d0e34e3",
   "metadata": {
    "tags": []
   },
   "outputs": [
    {
     "name": "stderr",
     "output_type": "stream",
     "text": [
      "/Users/oseianom/opt/anaconda3/lib/python3.9/site-packages/sklearn/model_selection/_validation.py:372: FitFailedWarning: \n",
      "20 fits failed out of a total of 50.\n",
      "The score on these train-test partitions for these parameters will be set to nan.\n",
      "If these failures are not expected, you can try to debug them by setting error_score='raise'.\n",
      "\n",
      "Below are more details about the failures:\n",
      "--------------------------------------------------------------------------------\n",
      "20 fits failed with the following error:\n",
      "Traceback (most recent call last):\n",
      "  File \"/Users/oseianom/opt/anaconda3/lib/python3.9/site-packages/sklearn/model_selection/_validation.py\", line 680, in _fit_and_score\n",
      "    estimator.fit(X_train, y_train, **fit_params)\n",
      "  File \"/Users/oseianom/opt/anaconda3/lib/python3.9/site-packages/sklearn/pipeline.py\", line 394, in fit\n",
      "    self._final_estimator.fit(Xt, y, **fit_params_last_step)\n",
      "  File \"/Users/oseianom/opt/anaconda3/lib/python3.9/site-packages/sklearn/ensemble/_forest.py\", line 450, in fit\n",
      "    trees = Parallel(\n",
      "  File \"/Users/oseianom/opt/anaconda3/lib/python3.9/site-packages/joblib/parallel.py\", line 1043, in __call__\n",
      "    if self.dispatch_one_batch(iterator):\n",
      "  File \"/Users/oseianom/opt/anaconda3/lib/python3.9/site-packages/joblib/parallel.py\", line 861, in dispatch_one_batch\n",
      "    self._dispatch(tasks)\n",
      "  File \"/Users/oseianom/opt/anaconda3/lib/python3.9/site-packages/joblib/parallel.py\", line 779, in _dispatch\n",
      "    job = self._backend.apply_async(batch, callback=cb)\n",
      "  File \"/Users/oseianom/opt/anaconda3/lib/python3.9/site-packages/joblib/_parallel_backends.py\", line 208, in apply_async\n",
      "    result = ImmediateResult(func)\n",
      "  File \"/Users/oseianom/opt/anaconda3/lib/python3.9/site-packages/joblib/_parallel_backends.py\", line 572, in __init__\n",
      "    self.results = batch()\n",
      "  File \"/Users/oseianom/opt/anaconda3/lib/python3.9/site-packages/joblib/parallel.py\", line 262, in __call__\n",
      "    return [func(*args, **kwargs)\n",
      "  File \"/Users/oseianom/opt/anaconda3/lib/python3.9/site-packages/joblib/parallel.py\", line 262, in <listcomp>\n",
      "    return [func(*args, **kwargs)\n",
      "  File \"/Users/oseianom/opt/anaconda3/lib/python3.9/site-packages/sklearn/utils/fixes.py\", line 216, in __call__\n",
      "    return self.function(*args, **kwargs)\n",
      "  File \"/Users/oseianom/opt/anaconda3/lib/python3.9/site-packages/sklearn/ensemble/_forest.py\", line 185, in _parallel_build_trees\n",
      "    tree.fit(X, y, sample_weight=curr_sample_weight, check_input=False)\n",
      "  File \"/Users/oseianom/opt/anaconda3/lib/python3.9/site-packages/sklearn/tree/_classes.py\", line 937, in fit\n",
      "    super().fit(\n",
      "  File \"/Users/oseianom/opt/anaconda3/lib/python3.9/site-packages/sklearn/tree/_classes.py\", line 259, in fit\n",
      "    raise ValueError(\n",
      "ValueError: min_samples_split must be an integer greater than 1 or a float in (0.0, 1.0]; got the float 2.0\n",
      "\n",
      "  warnings.warn(some_fits_failed_message, FitFailedWarning)\n",
      "/Users/oseianom/opt/anaconda3/lib/python3.9/site-packages/sklearn/model_selection/_search.py:969: UserWarning: One or more of the test scores are non-finite: [0.50041634 0.50041634        nan        nan 0.50041634 0.50041634\n",
      "        nan        nan 0.50041634 0.50041634]\n",
      "  warnings.warn(\n"
     ]
    },
    {
     "name": "stdout",
     "output_type": "stream",
     "text": [
      "0.5004163410331767\n"
     ]
    },
    {
     "data": {
      "text/plain": [
       "{'rf__n_estimators': 150,\n",
       " 'rf__min_samples_split': 1.0,\n",
       " 'rf__min_samples_leaf': 1,\n",
       " 'rf__max_depth': 1}"
      ]
     },
     "execution_count": 11,
     "metadata": {},
     "output_type": "execute_result"
    }
   ],
   "source": [
    "rf_pipe = Pipeline([\n",
    "    ('ss', StandardScaler()),\n",
    "    ('rf', RandomForestClassifier())\n",
    "])\n",
    "\n",
    "rf_params = {\n",
    "    'rf__n_estimators' :[100, 150],\n",
    "    'rf__max_depth': [1, 2, 3],\n",
    "    'rf__min_samples_leaf': [1, 2],\n",
    "    'rf__min_samples_split': [1.0, 2.0]\n",
    "}\n",
    "\n",
    "rs_rf = RandomizedSearchCV(rf_pipe, param_distributions= rf_params, cv=5, n_jobs = -1)\n",
    "#gs_rf = GridSearchCV(rf_pipe, param_grid= rf_params, cv=5, n_jobs = -1)\n",
    "\n",
    "rs_rf.fit(X_train, y_train)\n",
    "print(rs_rf.best_score_)\n",
    "rs_rf.best_params_\n"
   ]
  },
  {
   "cell_type": "markdown",
   "id": "d64993cb-cb98-4354-b34a-06de9685f029",
   "metadata": {},
   "source": [
    "* Accuracy"
   ]
  },
  {
   "cell_type": "code",
   "execution_count": 12,
   "id": "1360cc80-46a3-4711-abc5-26d83f4896aa",
   "metadata": {},
   "outputs": [
    {
     "name": "stdout",
     "output_type": "stream",
     "text": [
      " Training Accuracy Score: 0.5004163410198164\n",
      " Test Accuracy Score: 0.498750986063634\n"
     ]
    }
   ],
   "source": [
    "print(f' Training Accuracy Score: {rs_rf.score(X_train, y_train)}')\n",
    "print(f' Test Accuracy Score: {rs_rf.score(X_test, y_test)}')"
   ]
  },
  {
   "cell_type": "markdown",
   "id": "ec763d88-4eac-4e87-9ba1-e011ec4a45e9",
   "metadata": {},
   "source": [
    "* Misclassification"
   ]
  },
  {
   "cell_type": "code",
   "execution_count": 13,
   "id": "0995d1a6-d760-458a-a21c-83ef44041945",
   "metadata": {},
   "outputs": [
    {
     "name": "stdout",
     "output_type": "stream",
     "text": [
      " Training Misclassification Score: 0.49958365898018364\n",
      " Testtest Misclassification Score: 0.501249013936366\n"
     ]
    }
   ],
   "source": [
    "print(f' Training Misclassification Score: {1 - rs_rf.score(X_train, y_train)}')\n",
    "print(f' Testtest Misclassification Score: {1 - rs_rf.score(X_test, y_test)}')"
   ]
  },
  {
   "cell_type": "markdown",
   "id": "dab8e838-9fdb-4671-923b-486f596fc038",
   "metadata": {},
   "source": [
    "* Preds / F1"
   ]
  },
  {
   "cell_type": "code",
   "execution_count": 14,
   "id": "65f446de-e4f1-4a51-be9f-efeb432dcdec",
   "metadata": {},
   "outputs": [],
   "source": [
    "preds_rf = rs_rf.predict(X_test)\n"
   ]
  },
  {
   "cell_type": "code",
   "execution_count": 15,
   "id": "e7a91833-bd92-4044-a999-ccd3a895c36c",
   "metadata": {},
   "outputs": [
    {
     "data": {
      "text/plain": [
       "0.0"
      ]
     },
     "execution_count": 15,
     "metadata": {},
     "output_type": "execute_result"
    }
   ],
   "source": [
    "f1_score(y_test, preds_rf)\n"
   ]
  },
  {
   "cell_type": "code",
   "execution_count": null,
   "id": "e3eeb998-456a-473f-8fb6-36d67726e184",
   "metadata": {},
   "outputs": [],
   "source": []
  },
  {
   "cell_type": "markdown",
   "id": "aa23b60f-b23f-4f31-9f88-f7d1c44962ed",
   "metadata": {},
   "source": [
    "### Naive Bayes"
   ]
  },
  {
   "cell_type": "code",
   "execution_count": 15,
   "id": "9a86280b-72fd-4e22-aba2-03d9fbc2e00d",
   "metadata": {},
   "outputs": [
    {
     "name": "stderr",
     "output_type": "stream",
     "text": [
      "/Users/oseianom/opt/anaconda3/lib/python3.9/site-packages/sklearn/model_selection/_validation.py:372: FitFailedWarning: \n",
      "30 fits failed out of a total of 30.\n",
      "The score on these train-test partitions for these parameters will be set to nan.\n",
      "If these failures are not expected, you can try to debug them by setting error_score='raise'.\n",
      "\n",
      "Below are more details about the failures:\n",
      "--------------------------------------------------------------------------------\n",
      "30 fits failed with the following error:\n",
      "Traceback (most recent call last):\n",
      "  File \"/Users/oseianom/opt/anaconda3/lib/python3.9/site-packages/sklearn/model_selection/_validation.py\", line 680, in _fit_and_score\n",
      "    estimator.fit(X_train, y_train, **fit_params)\n",
      "  File \"/Users/oseianom/opt/anaconda3/lib/python3.9/site-packages/sklearn/pipeline.py\", line 394, in fit\n",
      "    self._final_estimator.fit(Xt, y, **fit_params_last_step)\n",
      "  File \"/Users/oseianom/opt/anaconda3/lib/python3.9/site-packages/sklearn/naive_bayes.py\", line 690, in fit\n",
      "    self._count(X, Y)\n",
      "  File \"/Users/oseianom/opt/anaconda3/lib/python3.9/site-packages/sklearn/naive_bayes.py\", line 863, in _count\n",
      "    check_non_negative(X, \"MultinomialNB (input X)\")\n",
      "  File \"/Users/oseianom/opt/anaconda3/lib/python3.9/site-packages/sklearn/utils/validation.py\", line 1249, in check_non_negative\n",
      "    raise ValueError(\"Negative values in data passed to %s\" % whom)\n",
      "ValueError: Negative values in data passed to MultinomialNB (input X)\n",
      "\n",
      "  warnings.warn(some_fits_failed_message, FitFailedWarning)\n",
      "/Users/oseianom/opt/anaconda3/lib/python3.9/site-packages/sklearn/model_selection/_search.py:969: UserWarning: One or more of the test scores are non-finite: [nan nan nan nan nan nan]\n",
      "  warnings.warn(\n"
     ]
    },
    {
     "ename": "ValueError",
     "evalue": "Negative values in data passed to MultinomialNB (input X)",
     "output_type": "error",
     "traceback": [
      "\u001b[0;31m---------------------------------------------------------------------------\u001b[0m",
      "\u001b[0;31mValueError\u001b[0m                                Traceback (most recent call last)",
      "\u001b[0;32m/var/folders/ls/rb0w9bbn24x0kssdjbf1scxh0000gn/T/ipykernel_95912/385977833.py\u001b[0m in \u001b[0;36m<module>\u001b[0;34m\u001b[0m\n\u001b[1;32m     13\u001b[0m                     n_jobs = -1)\n\u001b[1;32m     14\u001b[0m \u001b[0;34m\u001b[0m\u001b[0m\n\u001b[0;32m---> 15\u001b[0;31m \u001b[0mgs_nb\u001b[0m\u001b[0;34m.\u001b[0m\u001b[0mfit\u001b[0m\u001b[0;34m(\u001b[0m\u001b[0mX_train\u001b[0m\u001b[0;34m,\u001b[0m \u001b[0my_train\u001b[0m\u001b[0;34m)\u001b[0m\u001b[0;34m\u001b[0m\u001b[0;34m\u001b[0m\u001b[0m\n\u001b[0m\u001b[1;32m     16\u001b[0m \u001b[0mprint\u001b[0m\u001b[0;34m(\u001b[0m\u001b[0mgs_nb\u001b[0m\u001b[0;34m.\u001b[0m\u001b[0mbest_score_\u001b[0m\u001b[0;34m)\u001b[0m\u001b[0;34m\u001b[0m\u001b[0;34m\u001b[0m\u001b[0m\n\u001b[1;32m     17\u001b[0m \u001b[0mprint\u001b[0m\u001b[0;34m(\u001b[0m\u001b[0mgs_nb\u001b[0m\u001b[0;34m.\u001b[0m\u001b[0mbest_params_\u001b[0m\u001b[0;34m)\u001b[0m\u001b[0;34m\u001b[0m\u001b[0;34m\u001b[0m\u001b[0m\n",
      "\u001b[0;32m~/opt/anaconda3/lib/python3.9/site-packages/sklearn/model_selection/_search.py\u001b[0m in \u001b[0;36mfit\u001b[0;34m(self, X, y, groups, **fit_params)\u001b[0m\n\u001b[1;32m    924\u001b[0m             \u001b[0mrefit_start_time\u001b[0m \u001b[0;34m=\u001b[0m \u001b[0mtime\u001b[0m\u001b[0;34m.\u001b[0m\u001b[0mtime\u001b[0m\u001b[0;34m(\u001b[0m\u001b[0;34m)\u001b[0m\u001b[0;34m\u001b[0m\u001b[0;34m\u001b[0m\u001b[0m\n\u001b[1;32m    925\u001b[0m             \u001b[0;32mif\u001b[0m \u001b[0my\u001b[0m \u001b[0;32mis\u001b[0m \u001b[0;32mnot\u001b[0m \u001b[0;32mNone\u001b[0m\u001b[0;34m:\u001b[0m\u001b[0;34m\u001b[0m\u001b[0;34m\u001b[0m\u001b[0m\n\u001b[0;32m--> 926\u001b[0;31m                 \u001b[0mself\u001b[0m\u001b[0;34m.\u001b[0m\u001b[0mbest_estimator_\u001b[0m\u001b[0;34m.\u001b[0m\u001b[0mfit\u001b[0m\u001b[0;34m(\u001b[0m\u001b[0mX\u001b[0m\u001b[0;34m,\u001b[0m \u001b[0my\u001b[0m\u001b[0;34m,\u001b[0m \u001b[0;34m**\u001b[0m\u001b[0mfit_params\u001b[0m\u001b[0;34m)\u001b[0m\u001b[0;34m\u001b[0m\u001b[0;34m\u001b[0m\u001b[0m\n\u001b[0m\u001b[1;32m    927\u001b[0m             \u001b[0;32melse\u001b[0m\u001b[0;34m:\u001b[0m\u001b[0;34m\u001b[0m\u001b[0;34m\u001b[0m\u001b[0m\n\u001b[1;32m    928\u001b[0m                 \u001b[0mself\u001b[0m\u001b[0;34m.\u001b[0m\u001b[0mbest_estimator_\u001b[0m\u001b[0;34m.\u001b[0m\u001b[0mfit\u001b[0m\u001b[0;34m(\u001b[0m\u001b[0mX\u001b[0m\u001b[0;34m,\u001b[0m \u001b[0;34m**\u001b[0m\u001b[0mfit_params\u001b[0m\u001b[0;34m)\u001b[0m\u001b[0;34m\u001b[0m\u001b[0;34m\u001b[0m\u001b[0m\n",
      "\u001b[0;32m~/opt/anaconda3/lib/python3.9/site-packages/sklearn/pipeline.py\u001b[0m in \u001b[0;36mfit\u001b[0;34m(self, X, y, **fit_params)\u001b[0m\n\u001b[1;32m    392\u001b[0m             \u001b[0;32mif\u001b[0m \u001b[0mself\u001b[0m\u001b[0;34m.\u001b[0m\u001b[0m_final_estimator\u001b[0m \u001b[0;34m!=\u001b[0m \u001b[0;34m\"passthrough\"\u001b[0m\u001b[0;34m:\u001b[0m\u001b[0;34m\u001b[0m\u001b[0;34m\u001b[0m\u001b[0m\n\u001b[1;32m    393\u001b[0m                 \u001b[0mfit_params_last_step\u001b[0m \u001b[0;34m=\u001b[0m \u001b[0mfit_params_steps\u001b[0m\u001b[0;34m[\u001b[0m\u001b[0mself\u001b[0m\u001b[0;34m.\u001b[0m\u001b[0msteps\u001b[0m\u001b[0;34m[\u001b[0m\u001b[0;34m-\u001b[0m\u001b[0;36m1\u001b[0m\u001b[0;34m]\u001b[0m\u001b[0;34m[\u001b[0m\u001b[0;36m0\u001b[0m\u001b[0;34m]\u001b[0m\u001b[0;34m]\u001b[0m\u001b[0;34m\u001b[0m\u001b[0;34m\u001b[0m\u001b[0m\n\u001b[0;32m--> 394\u001b[0;31m                 \u001b[0mself\u001b[0m\u001b[0;34m.\u001b[0m\u001b[0m_final_estimator\u001b[0m\u001b[0;34m.\u001b[0m\u001b[0mfit\u001b[0m\u001b[0;34m(\u001b[0m\u001b[0mXt\u001b[0m\u001b[0;34m,\u001b[0m \u001b[0my\u001b[0m\u001b[0;34m,\u001b[0m \u001b[0;34m**\u001b[0m\u001b[0mfit_params_last_step\u001b[0m\u001b[0;34m)\u001b[0m\u001b[0;34m\u001b[0m\u001b[0;34m\u001b[0m\u001b[0m\n\u001b[0m\u001b[1;32m    395\u001b[0m \u001b[0;34m\u001b[0m\u001b[0m\n\u001b[1;32m    396\u001b[0m         \u001b[0;32mreturn\u001b[0m \u001b[0mself\u001b[0m\u001b[0;34m\u001b[0m\u001b[0;34m\u001b[0m\u001b[0m\n",
      "\u001b[0;32m~/opt/anaconda3/lib/python3.9/site-packages/sklearn/naive_bayes.py\u001b[0m in \u001b[0;36mfit\u001b[0;34m(self, X, y, sample_weight)\u001b[0m\n\u001b[1;32m    688\u001b[0m         \u001b[0mn_classes\u001b[0m \u001b[0;34m=\u001b[0m \u001b[0mY\u001b[0m\u001b[0;34m.\u001b[0m\u001b[0mshape\u001b[0m\u001b[0;34m[\u001b[0m\u001b[0;36m1\u001b[0m\u001b[0;34m]\u001b[0m\u001b[0;34m\u001b[0m\u001b[0;34m\u001b[0m\u001b[0m\n\u001b[1;32m    689\u001b[0m         \u001b[0mself\u001b[0m\u001b[0;34m.\u001b[0m\u001b[0m_init_counters\u001b[0m\u001b[0;34m(\u001b[0m\u001b[0mn_classes\u001b[0m\u001b[0;34m,\u001b[0m \u001b[0mn_features\u001b[0m\u001b[0;34m)\u001b[0m\u001b[0;34m\u001b[0m\u001b[0;34m\u001b[0m\u001b[0m\n\u001b[0;32m--> 690\u001b[0;31m         \u001b[0mself\u001b[0m\u001b[0;34m.\u001b[0m\u001b[0m_count\u001b[0m\u001b[0;34m(\u001b[0m\u001b[0mX\u001b[0m\u001b[0;34m,\u001b[0m \u001b[0mY\u001b[0m\u001b[0;34m)\u001b[0m\u001b[0;34m\u001b[0m\u001b[0;34m\u001b[0m\u001b[0m\n\u001b[0m\u001b[1;32m    691\u001b[0m         \u001b[0malpha\u001b[0m \u001b[0;34m=\u001b[0m \u001b[0mself\u001b[0m\u001b[0;34m.\u001b[0m\u001b[0m_check_alpha\u001b[0m\u001b[0;34m(\u001b[0m\u001b[0;34m)\u001b[0m\u001b[0;34m\u001b[0m\u001b[0;34m\u001b[0m\u001b[0m\n\u001b[1;32m    692\u001b[0m         \u001b[0mself\u001b[0m\u001b[0;34m.\u001b[0m\u001b[0m_update_feature_log_prob\u001b[0m\u001b[0;34m(\u001b[0m\u001b[0malpha\u001b[0m\u001b[0;34m)\u001b[0m\u001b[0;34m\u001b[0m\u001b[0;34m\u001b[0m\u001b[0m\n",
      "\u001b[0;32m~/opt/anaconda3/lib/python3.9/site-packages/sklearn/naive_bayes.py\u001b[0m in \u001b[0;36m_count\u001b[0;34m(self, X, Y)\u001b[0m\n\u001b[1;32m    861\u001b[0m     \u001b[0;32mdef\u001b[0m \u001b[0m_count\u001b[0m\u001b[0;34m(\u001b[0m\u001b[0mself\u001b[0m\u001b[0;34m,\u001b[0m \u001b[0mX\u001b[0m\u001b[0;34m,\u001b[0m \u001b[0mY\u001b[0m\u001b[0;34m)\u001b[0m\u001b[0;34m:\u001b[0m\u001b[0;34m\u001b[0m\u001b[0;34m\u001b[0m\u001b[0m\n\u001b[1;32m    862\u001b[0m         \u001b[0;34m\"\"\"Count and smooth feature occurrences.\"\"\"\u001b[0m\u001b[0;34m\u001b[0m\u001b[0;34m\u001b[0m\u001b[0m\n\u001b[0;32m--> 863\u001b[0;31m         \u001b[0mcheck_non_negative\u001b[0m\u001b[0;34m(\u001b[0m\u001b[0mX\u001b[0m\u001b[0;34m,\u001b[0m \u001b[0;34m\"MultinomialNB (input X)\"\u001b[0m\u001b[0;34m)\u001b[0m\u001b[0;34m\u001b[0m\u001b[0;34m\u001b[0m\u001b[0m\n\u001b[0m\u001b[1;32m    864\u001b[0m         \u001b[0mself\u001b[0m\u001b[0;34m.\u001b[0m\u001b[0mfeature_count_\u001b[0m \u001b[0;34m+=\u001b[0m \u001b[0msafe_sparse_dot\u001b[0m\u001b[0;34m(\u001b[0m\u001b[0mY\u001b[0m\u001b[0;34m.\u001b[0m\u001b[0mT\u001b[0m\u001b[0;34m,\u001b[0m \u001b[0mX\u001b[0m\u001b[0;34m)\u001b[0m\u001b[0;34m\u001b[0m\u001b[0;34m\u001b[0m\u001b[0m\n\u001b[1;32m    865\u001b[0m         \u001b[0mself\u001b[0m\u001b[0;34m.\u001b[0m\u001b[0mclass_count_\u001b[0m \u001b[0;34m+=\u001b[0m \u001b[0mY\u001b[0m\u001b[0;34m.\u001b[0m\u001b[0msum\u001b[0m\u001b[0;34m(\u001b[0m\u001b[0maxis\u001b[0m\u001b[0;34m=\u001b[0m\u001b[0;36m0\u001b[0m\u001b[0;34m)\u001b[0m\u001b[0;34m\u001b[0m\u001b[0;34m\u001b[0m\u001b[0m\n",
      "\u001b[0;32m~/opt/anaconda3/lib/python3.9/site-packages/sklearn/utils/validation.py\u001b[0m in \u001b[0;36mcheck_non_negative\u001b[0;34m(X, whom)\u001b[0m\n\u001b[1;32m   1247\u001b[0m \u001b[0;34m\u001b[0m\u001b[0m\n\u001b[1;32m   1248\u001b[0m     \u001b[0;32mif\u001b[0m \u001b[0mX_min\u001b[0m \u001b[0;34m<\u001b[0m \u001b[0;36m0\u001b[0m\u001b[0;34m:\u001b[0m\u001b[0;34m\u001b[0m\u001b[0;34m\u001b[0m\u001b[0m\n\u001b[0;32m-> 1249\u001b[0;31m         \u001b[0;32mraise\u001b[0m \u001b[0mValueError\u001b[0m\u001b[0;34m(\u001b[0m\u001b[0;34m\"Negative values in data passed to %s\"\u001b[0m \u001b[0;34m%\u001b[0m \u001b[0mwhom\u001b[0m\u001b[0;34m)\u001b[0m\u001b[0;34m\u001b[0m\u001b[0;34m\u001b[0m\u001b[0m\n\u001b[0m\u001b[1;32m   1250\u001b[0m \u001b[0;34m\u001b[0m\u001b[0m\n\u001b[1;32m   1251\u001b[0m \u001b[0;34m\u001b[0m\u001b[0m\n",
      "\u001b[0;31mValueError\u001b[0m: Negative values in data passed to MultinomialNB (input X)"
     ]
    }
   ],
   "source": [
    "nb_pipe = Pipeline([\n",
    "    ('ss', StandardScaler()),\n",
    "    ('mnb', MultinomialNB())\n",
    "])\n",
    "\n",
    "nb_pipe_params = {\n",
    "    'mnb__alpha':[1.0, 1.5, 2.0],\n",
    "    'mnb__fit_prior': [True, False]\n",
    "}\n",
    "\n",
    "gs_nb = GridSearchCV(nb_pipe,\n",
    "                    param_grid = nb_pipe_params, cv = 5,\n",
    "                    n_jobs = -1)\n",
    "\n",
    "gs_nb.fit(X_train, y_train)\n",
    "print(gs_nb.best_score_)\n",
    "print(gs_nb.best_params_)"
   ]
  },
  {
   "cell_type": "markdown",
   "id": "f3b3d708-8414-4320-a73c-c33ed65adb80",
   "metadata": {},
   "source": [
    "* Accuracy"
   ]
  },
  {
   "cell_type": "code",
   "execution_count": null,
   "id": "0b96dfad-aa19-4cd6-b6fe-ffa9edc45e0c",
   "metadata": {},
   "outputs": [],
   "source": [
    "print(f' Training Accuracy Score: {gs_nb.score(X_train, y_train)}')\n",
    "print(f' Test Accuracy Score: {gs_nb.score(X_test, y_test)}')\n"
   ]
  },
  {
   "cell_type": "markdown",
   "id": "917acfd5-3ad8-46b5-b033-2c5f753f44bd",
   "metadata": {},
   "source": [
    "* Misclassification"
   ]
  },
  {
   "cell_type": "code",
   "execution_count": null,
   "id": "1023da03-dfed-47be-a129-3b35e13286af",
   "metadata": {},
   "outputs": [],
   "source": [
    "print(f' Training Misclassification Score: {1 - gs_nb.score(X_train, y_train)}')\n",
    "print(f' Testtest Misclassification Score: {1 - gs_nb.score(X_test, y_test)}')"
   ]
  },
  {
   "cell_type": "markdown",
   "id": "6ba68671-b181-4fe6-9b18-06c9569b632c",
   "metadata": {},
   "source": [
    "* Preds / F1"
   ]
  },
  {
   "cell_type": "code",
   "execution_count": null,
   "id": "4df65942-8c33-41c8-9c1d-b6a00050a9f5",
   "metadata": {},
   "outputs": [],
   "source": [
    "preds_nb = gs_nb.predict(X_test)\n"
   ]
  },
  {
   "cell_type": "code",
   "execution_count": null,
   "id": "5f0c4762-9755-4903-a8c2-4110fc287f3b",
   "metadata": {},
   "outputs": [],
   "source": [
    "f1_score(y_test, preds_nb)\n"
   ]
  },
  {
   "cell_type": "markdown",
   "id": "65c4425f-f769-4358-be42-781be5146738",
   "metadata": {},
   "source": [
    "### Bagging"
   ]
  },
  {
   "cell_type": "code",
   "execution_count": 16,
   "id": "f712960b-96e9-4913-be8c-2ccf4e27263b",
   "metadata": {},
   "outputs": [
    {
     "name": "stdout",
     "output_type": "stream",
     "text": [
      "0.5323576780735478\n",
      "{'bagg__max_features': 4, 'bagg__max_samples': 3, 'bagg__n_estimators': 20}\n"
     ]
    }
   ],
   "source": [
    "bagg_pipe = Pipeline([\n",
    "    ('ss', StandardScaler()),\n",
    "    ('bagg', BaggingClassifier())\n",
    "])\n",
    "\n",
    "bagg_pipe_params = {\n",
    "    'bagg__n_estimators':[10, 15, 20],\n",
    "    'bagg__max_samples': [1, 2, 3],\n",
    "    'bagg__max_features': [1, 2, 3, 4]\n",
    "}\n",
    "\n",
    "gs_bagg = GridSearchCV(bagg_pipe,\n",
    "                    param_grid = bagg_pipe_params, cv = 5,\n",
    "                    n_jobs = -1)\n",
    "\n",
    "gs_bagg.fit(X_train, y_train)\n",
    "print(gs_bagg.best_score_)\n",
    "print(gs_bagg.best_params_)"
   ]
  },
  {
   "cell_type": "markdown",
   "id": "925b6d0a-511c-4a7b-a755-274ba83fe9cd",
   "metadata": {},
   "source": [
    "* Accuracy"
   ]
  },
  {
   "cell_type": "code",
   "execution_count": 17,
   "id": "1eba2951-685e-4e62-aa35-d8836fd93e73",
   "metadata": {},
   "outputs": [
    {
     "name": "stdout",
     "output_type": "stream",
     "text": [
      " Training Accuracy Score: 0.5155141811594732\n",
      " Test Accuracy Score: 0.5151415549127881\n"
     ]
    }
   ],
   "source": [
    "print(f' Training Accuracy Score: {gs_bagg.score(X_train, y_train)}')\n",
    "print(f' Test Accuracy Score: {gs_bagg.score(X_test, y_test)}')"
   ]
  },
  {
   "cell_type": "markdown",
   "id": "446d84de-719f-4df9-97a7-5fae6d56c089",
   "metadata": {},
   "source": [
    "* Missclassification"
   ]
  },
  {
   "cell_type": "code",
   "execution_count": 18,
   "id": "900f5ee0-8f43-4fc5-b8f5-86b994106927",
   "metadata": {},
   "outputs": [
    {
     "name": "stdout",
     "output_type": "stream",
     "text": [
      " Training Misclassification Score: 0.48448581884052677\n",
      " Test Misclassification Score: 0.4848584450872119\n"
     ]
    }
   ],
   "source": [
    "print(f' Training Misclassification Score: {1 - gs_bagg.score(X_train, y_train)}')\n",
    "print(f' Test Misclassification Score: {1 - gs_bagg.score(X_test, y_test)}')"
   ]
  },
  {
   "cell_type": "markdown",
   "id": "d4501c69-226e-468b-a55d-e65622db84b7",
   "metadata": {},
   "source": [
    "* Preds / F1 Score"
   ]
  },
  {
   "cell_type": "code",
   "execution_count": 19,
   "id": "353dfc50-288e-4d0e-82cb-94cfd6d62f31",
   "metadata": {},
   "outputs": [],
   "source": [
    "preds_bagg = gs_bagg.predict(X_test)\n"
   ]
  },
  {
   "cell_type": "code",
   "execution_count": 20,
   "id": "c9da459f-db6c-4bb2-b134-8d9c81b50796",
   "metadata": {},
   "outputs": [
    {
     "data": {
      "text/plain": [
       "0.4901495426161893"
      ]
     },
     "execution_count": 20,
     "metadata": {},
     "output_type": "execute_result"
    }
   ],
   "source": [
    "f1_score(y_test, preds_bagg)\n"
   ]
  },
  {
   "cell_type": "markdown",
   "id": "107e2f73-66c3-4218-abce-dd21f504316f",
   "metadata": {},
   "source": [
    "### AdaBoost"
   ]
  },
  {
   "cell_type": "code",
   "execution_count": 21,
   "id": "8ece0c0b-aeaa-4199-b10b-2be0926a2617",
   "metadata": {},
   "outputs": [
    {
     "name": "stdout",
     "output_type": "stream",
     "text": [
      "0.6249753535709913\n",
      "{'ada__learning_rate': 1.5, 'ada__n_estimators': 200}\n"
     ]
    }
   ],
   "source": [
    "ada_pipe = Pipeline([\n",
    "    ('ss', StandardScaler()),\n",
    "    ('ada', AdaBoostClassifier())\n",
    "])\n",
    "\n",
    "ada_pipe_params = {\n",
    "    'ada__n_estimators':[50, 100, 150, 200],\n",
    "    'ada__learning_rate': [1.0, 1.5, 2.0]\n",
    "}\n",
    "\n",
    "gs_ada = GridSearchCV(ada_pipe,\n",
    "                    param_grid = ada_pipe_params, cv = 5,\n",
    "                    n_jobs = -1)\n",
    "\n",
    "gs_ada.fit(X_train, y_train)\n",
    "print(gs_ada.best_score_)\n",
    "print(gs_ada.best_params_)"
   ]
  },
  {
   "cell_type": "markdown",
   "id": "cd5f3888-a630-4a9a-bd3a-5f9cc8f6d4af",
   "metadata": {},
   "source": [
    "* Accuracy"
   ]
  },
  {
   "cell_type": "code",
   "execution_count": 22,
   "id": "e0598052-9de7-4e0c-a9eb-1570f052cd44",
   "metadata": {},
   "outputs": [
    {
     "name": "stdout",
     "output_type": "stream",
     "text": [
      " Training Accuracy Score: 0.626998619500829\n",
      " Test Accuracy Score: 0.6285498290823034\n"
     ]
    }
   ],
   "source": [
    "print(f' Training Accuracy Score: {gs_ada.score(X_train, y_train)}')\n",
    "print(f' Test Accuracy Score: {gs_ada.score(X_test, y_test)}')"
   ]
  },
  {
   "cell_type": "markdown",
   "id": "c550f646-1b1f-4963-bf5f-206b629cdf9d",
   "metadata": {},
   "source": [
    "* Misclassification"
   ]
  },
  {
   "cell_type": "code",
   "execution_count": 23,
   "id": "34442c55-7a1b-4fc9-b534-71ed6a2b2687",
   "metadata": {},
   "outputs": [
    {
     "name": "stdout",
     "output_type": "stream",
     "text": [
      " Training Misclassification Score: 0.373001380499171\n",
      " Testtest Misclassification Score: 0.3714501709176966\n"
     ]
    }
   ],
   "source": [
    "print(f' Training Misclassification Score: {1 - gs_ada.score(X_train, y_train)}')\n",
    "print(f' Testtest Misclassification Score: {1 - gs_ada.score(X_test, y_test)}')"
   ]
  },
  {
   "cell_type": "markdown",
   "id": "65cf4b58-3890-486e-8e3d-c19ff258efe1",
   "metadata": {},
   "source": [
    "* Preds / F1"
   ]
  },
  {
   "cell_type": "code",
   "execution_count": 24,
   "id": "df319473-303d-469f-9e9c-370aadf85902",
   "metadata": {},
   "outputs": [],
   "source": [
    "preds_ada = gs_ada.predict(X_test)"
   ]
  },
  {
   "cell_type": "code",
   "execution_count": 25,
   "id": "65778d9a-ea11-4e0e-bc44-3d5e02a402a7",
   "metadata": {},
   "outputs": [
    {
     "data": {
      "text/plain": [
       "0.6351102644409286"
      ]
     },
     "execution_count": 25,
     "metadata": {},
     "output_type": "execute_result"
    }
   ],
   "source": [
    "f1_score(y_test, preds_ada)"
   ]
  },
  {
   "cell_type": "markdown",
   "id": "bd7ecb55-5d34-481f-89dc-1c797a5e5cd1",
   "metadata": {},
   "source": [
    "### Stacking"
   ]
  },
  {
   "cell_type": "code",
   "execution_count": 26,
   "id": "9642ddbb-30f5-4ef1-ad29-1f65643baafe",
   "metadata": {},
   "outputs": [],
   "source": [
    "level1_estimators = [\n",
    "    #('ss', StandardScaler()),\n",
    "    #('nb', gs_nb.best_estimator_),\n",
    "    ('ada', gs_ada.best_estimator_),\n",
    "    ('rf', rs_rf.best_estimator_)\n",
    "]\n",
    "\n",
    "stacked_model = StackingClassifier(estimators=level1_estimators,\n",
    "                                 final_estimator=LogisticRegression())"
   ]
  },
  {
   "cell_type": "code",
   "execution_count": 27,
   "id": "bfc62c7e-9001-4136-b914-19908bfda739",
   "metadata": {},
   "outputs": [
    {
     "data": {
      "text/plain": [
       "StackingClassifier(estimators=[('ada',\n",
       "                                Pipeline(steps=[('ss', StandardScaler()),\n",
       "                                                ('ada',\n",
       "                                                 AdaBoostClassifier(learning_rate=1.5,\n",
       "                                                                    n_estimators=200))])),\n",
       "                               ('rf',\n",
       "                                Pipeline(steps=[('ss', StandardScaler()),\n",
       "                                                ('rf',\n",
       "                                                 RandomForestClassifier(max_depth=1,\n",
       "                                                                        min_samples_split=1.0,\n",
       "                                                                        n_estimators=150))]))],\n",
       "                   final_estimator=LogisticRegression())"
      ]
     },
     "execution_count": 27,
     "metadata": {},
     "output_type": "execute_result"
    }
   ],
   "source": [
    "stacked_model.fit(X_train, y_train)"
   ]
  },
  {
   "cell_type": "markdown",
   "id": "88492b78-e284-43c2-872f-364daef15de8",
   "metadata": {},
   "source": [
    "* Accuracy"
   ]
  },
  {
   "cell_type": "code",
   "execution_count": 28,
   "id": "18cd7fe4-1738-4caf-b91d-d86cf9d58e5e",
   "metadata": {},
   "outputs": [
    {
     "name": "stdout",
     "output_type": "stream",
     "text": [
      " Training Accuracy Score: 0.6251177806832375\n",
      " Test Accuracy Score: 0.6249452186870015\n"
     ]
    }
   ],
   "source": [
    "print(f' Training Accuracy Score: {stacked_model.score(X_train, y_train)}')\n",
    "print(f' Test Accuracy Score: {stacked_model.score(X_test, y_test)}')"
   ]
  },
  {
   "cell_type": "markdown",
   "id": "c8411c6c-d7ad-48f8-a066-6c0afed1eeda",
   "metadata": {},
   "source": [
    "* Misclassification"
   ]
  },
  {
   "cell_type": "code",
   "execution_count": 29,
   "id": "00378e2e-4961-454e-9c7b-5f42cba3edbc",
   "metadata": {},
   "outputs": [
    {
     "name": "stdout",
     "output_type": "stream",
     "text": [
      " Training Misclassification Score: 0.37488221931676247\n",
      " Testtest Misclassification Score: 0.3750547813129985\n"
     ]
    }
   ],
   "source": [
    "print(f' Training Misclassification Score: {1 - stacked_model.score(X_train, y_train)}')\n",
    "print(f' Testtest Misclassification Score: {1 - stacked_model.score(X_test, y_test)}')"
   ]
  },
  {
   "cell_type": "markdown",
   "id": "b4d61eb6-2ff0-455b-a660-23c830cbb502",
   "metadata": {},
   "source": [
    "* Preds / F1"
   ]
  },
  {
   "cell_type": "code",
   "execution_count": 30,
   "id": "8ffa05a5-f319-4280-982d-4974e7c77732",
   "metadata": {},
   "outputs": [],
   "source": [
    "preds_stacked_model = stacked_model.predict(X_test)"
   ]
  },
  {
   "cell_type": "code",
   "execution_count": 31,
   "id": "03793da0-4238-4b98-90f8-499f9ec8750d",
   "metadata": {},
   "outputs": [
    {
     "data": {
      "text/plain": [
       "0.6104865504528698"
      ]
     },
     "execution_count": 31,
     "metadata": {},
     "output_type": "execute_result"
    }
   ],
   "source": [
    "f1_score(y_test, preds_stacked_model)"
   ]
  },
  {
   "cell_type": "code",
   "execution_count": null,
   "id": "1d123987-3919-4eb8-9dd9-b29db3dc3711",
   "metadata": {},
   "outputs": [],
   "source": []
  }
 ],
 "metadata": {
  "kernelspec": {
   "display_name": "Python 3 (ipykernel)",
   "language": "python",
   "name": "python3"
  },
  "language_info": {
   "codemirror_mode": {
    "name": "ipython",
    "version": 3
   },
   "file_extension": ".py",
   "mimetype": "text/x-python",
   "name": "python",
   "nbconvert_exporter": "python",
   "pygments_lexer": "ipython3",
   "version": "3.9.13"
  }
 },
 "nbformat": 4,
 "nbformat_minor": 5
}
