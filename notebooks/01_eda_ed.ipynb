{
 "cells": [
  {
   "cell_type": "code",
   "execution_count": 1,
   "id": "d95cba32-b0b7-4395-9df6-45d8ea87a94b",
   "metadata": {},
   "outputs": [],
   "source": [
    "import pandas as pd\n",
    "import numpy as np\n",
    "import seaborn as sns\n",
    "import matplotlib.pyplot as plt"
   ]
  },
  {
   "cell_type": "code",
   "execution_count": 2,
   "id": "b5f127b4-0f67-400e-a21b-188f506c8d1b",
   "metadata": {},
   "outputs": [],
   "source": [
    "df_train = pd.read_csv('../data/raw_train.csv')\n",
    "df_test = pd.read_csv('../data/raw_test.csv')\n",
    "\n",
    "df_dict = pd.read_excel('../data/Data Dictionary.xlsx')"
   ]
  },
  {
   "cell_type": "code",
   "execution_count": 3,
   "id": "63961d8c-94a8-41e3-b85d-c72c53e7b441",
   "metadata": {},
   "outputs": [],
   "source": [
    "def cleaner(dataframe, name):\n",
    "    df = pd.DataFrame(dataframe.values, columns = [i.lower() for i in dataframe.columns])\n",
    "    df['ltv'].apply(lambda i: i/100) # convert ltv to percentage\n",
    "    \n",
    "    # OHE\n",
    "    pd.get_dummies(df, columns = ['branch_id', 'supplier_id', 'manufacturer_id', 'current_pincode_id'], drop_first = True)\n",
    "    \n",
    "    # nulls in employment indicate 'no history available'\n",
    "    # fillna with -1, OHE for [Salaried : Self-employed : no employment history available]\n",
    "    df.fillna(-1, inplace = True)\n",
    "    df['employment_self'] = df['employment_type'].map(lambda i: 1 if i =='Self employed' else 0)\n",
    "    df['employment_none'] = df['employment_type'].map(lambda i: 1 if i == -1 else 0)\n",
    "    \n",
    "    # convert string DD-MM-YYYY to datetime\n",
    "    df['date_of_birth'] = pd.to_datetime(df['date_of_birth'], dayfirst = True)\n",
    "    df['disbursal_date'] = pd.to_datetime(df['disbursal_date'], dayfirst = True)\n",
    "    df['age_at_disbursal'] = df['disbursal_date'].dt.year - df['date_of_birth'].dt.year\n",
    "    \n",
    "    # convert @yrs &mon string to int (@*12 + &) months\n",
    "    df['average_acct_age_months'] = (df['average_acct_age'].str.extract(\"(\\d+)yrs\", expand=False).astype(int) * 12\n",
    "                                     + df['average_acct_age'].str.extract(\"(\\d+)mon\", expand=False).astype(int))\n",
    "    \n",
    "    df['credit_history_length_months'] = (df['credit_history_length'].str.extract(\"(\\d+)yrs\", expand=False).astype(int) * 12\n",
    "                                                + df['credit_history_length'].str.extract(\"(\\d+)mon\", expand=False).astype(int))\n",
    "    \n",
    "    # convert to ordinal scale\n",
    "    df['cns_score_category'] = df['perform_cns_score_description'].map({'A-Very Low Risk': 1,\n",
    "                                         'B-Very Low Risk': 2,\n",
    "                                         'C-Very Low Risk': 3,\n",
    "                                         'D-Very Low Risk': 4,\n",
    "                                         'E-Low Risk': 5,\n",
    "                                         'F-Low Risk': 6,\n",
    "                                         'G-Low Risk':7 ,\n",
    "                                         'H-Medium Risk': 8,\n",
    "                                         'I-Medium Risk': 9,\n",
    "                                         'J-High Risk': 10,\n",
    "                                         'K-High Risk': 11,\n",
    "                                         'L-Very High Risk': 12,\n",
    "                                         'M-Very High Risk': 13,\n",
    "                                         'No Bureau History Available': 0,\n",
    "                                         'Not Scored: More than 50 active Accounts found': 0,\n",
    "                                         'Not Scored: No Activity seen on the customer (Inactive)': 0,\n",
    "                                         'Not Scored: No Updates available in last 36 months': 0,\n",
    "                                         'Not Scored: Not Enough Info available on the customer': 0,\n",
    "                                         'Not Scored: Only a Guarantor': 0,\n",
    "                                         'Not Scored: Sufficient History Not Available': 0})\n",
    "    # binary column for 'not scored due to unreliable history information'\n",
    "    # in contrast with 'No bureau history information available' which is 0 on cns_score\n",
    "    # 'not scored' are low but non-zero cns_score\n",
    "    df['cns_score_unreliable'] = df['perform_cns_score_description'].map(lambda i: 1 if 'Not Scored:' in i else 0)\n",
    "    \n",
    "    # recast to int\n",
    "    if 'loan_default' in df.columns:\n",
    "        df['loan_default'] = df['loan_default'].astype(int)\n",
    "    \n",
    "    # drop \n",
    "    df.drop(columns = ['employment_type','date_of_birth','disbursal_date', 'average_acct_age', 'credit_history_length', 'perform_cns_score_description'], inplace = True)\n",
    "    \n",
    "    # save cleaned df to local\n",
    "    df.to_csv(f'../data/clean_{name}.csv', index = False)"
   ]
  },
  {
   "cell_type": "code",
   "execution_count": 4,
   "id": "1e4602e4-5dda-4e4f-9905-9892309e8b2b",
   "metadata": {},
   "outputs": [
    {
     "name": "stderr",
     "output_type": "stream",
     "text": [
      "/opt/anaconda3/lib/python3.9/site-packages/pandas/core/algorithms.py:798: FutureWarning: In a future version, the Index constructor will not infer numeric dtypes when passed object-dtype sequences (matching Series behavior)\n",
      "  uniques = Index(uniques)\n",
      "/opt/anaconda3/lib/python3.9/site-packages/pandas/core/algorithms.py:798: FutureWarning: In a future version, the Index constructor will not infer numeric dtypes when passed object-dtype sequences (matching Series behavior)\n",
      "  uniques = Index(uniques)\n"
     ]
    }
   ],
   "source": [
    "cleaner(df_train, 'train')\n",
    "cleaner(df_test, 'test')"
   ]
  }
 ],
 "metadata": {
  "kernelspec": {
   "display_name": "Python 3 (ipykernel)",
   "language": "python",
   "name": "python3"
  },
  "language_info": {
   "codemirror_mode": {
    "name": "ipython",
    "version": 3
   },
   "file_extension": ".py",
   "mimetype": "text/x-python",
   "name": "python",
   "nbconvert_exporter": "python",
   "pygments_lexer": "ipython3",
   "version": "3.9.13"
  }
 },
 "nbformat": 4,
 "nbformat_minor": 5
}
